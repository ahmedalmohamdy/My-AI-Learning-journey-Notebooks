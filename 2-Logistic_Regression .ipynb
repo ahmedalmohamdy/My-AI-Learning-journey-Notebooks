{
 "cells": [
  {
   "cell_type": "markdown",
   "id": "2b8934f9",
   "metadata": {},
   "source": [
    "# Logistic Regression \n",
    "- Coded By : <span style=\"color: red;\">Eng.Ahmed Almohamdy</span>"
   ]
  },
  {
   "cell_type": "code",
   "execution_count": 22,
   "id": "3c2ab911",
   "metadata": {},
   "outputs": [],
   "source": [
    "import numpy as np\n",
    "import pandas as pd\n",
    "import matplotlib.pyplot as plt\n",
    "%matplotlib inline\n",
    "import sklearn\n",
    "pd.set_option(\"display.max_columns\" , None)"
   ]
  },
  {
   "cell_type": "code",
   "execution_count": 23,
   "id": "7575f77c",
   "metadata": {},
   "outputs": [],
   "source": [
    "data = pd.read_csv('Churn_Modelling.csv')"
   ]
  },
  {
   "cell_type": "code",
   "execution_count": 24,
   "id": "8a5aa6df",
   "metadata": {
    "scrolled": true
   },
   "outputs": [
    {
     "data": {
      "text/html": [
       "<div>\n",
       "<style scoped>\n",
       "    .dataframe tbody tr th:only-of-type {\n",
       "        vertical-align: middle;\n",
       "    }\n",
       "\n",
       "    .dataframe tbody tr th {\n",
       "        vertical-align: top;\n",
       "    }\n",
       "\n",
       "    .dataframe thead th {\n",
       "        text-align: right;\n",
       "    }\n",
       "</style>\n",
       "<table border=\"1\" class=\"dataframe\">\n",
       "  <thead>\n",
       "    <tr style=\"text-align: right;\">\n",
       "      <th></th>\n",
       "      <th>RowNumber</th>\n",
       "      <th>CustomerId</th>\n",
       "      <th>Surname</th>\n",
       "      <th>CreditScore</th>\n",
       "      <th>Geography</th>\n",
       "      <th>Gender</th>\n",
       "      <th>Age</th>\n",
       "      <th>Tenure</th>\n",
       "      <th>Balance</th>\n",
       "      <th>NumOfProducts</th>\n",
       "      <th>HasCrCard</th>\n",
       "      <th>IsActiveMember</th>\n",
       "      <th>EstimatedSalary</th>\n",
       "      <th>Exited</th>\n",
       "    </tr>\n",
       "  </thead>\n",
       "  <tbody>\n",
       "    <tr>\n",
       "      <th>0</th>\n",
       "      <td>1</td>\n",
       "      <td>15634602</td>\n",
       "      <td>Hargrave</td>\n",
       "      <td>619</td>\n",
       "      <td>France</td>\n",
       "      <td>Female</td>\n",
       "      <td>42</td>\n",
       "      <td>2</td>\n",
       "      <td>0.00</td>\n",
       "      <td>1</td>\n",
       "      <td>1</td>\n",
       "      <td>1</td>\n",
       "      <td>101348.88</td>\n",
       "      <td>1</td>\n",
       "    </tr>\n",
       "    <tr>\n",
       "      <th>1</th>\n",
       "      <td>2</td>\n",
       "      <td>15647311</td>\n",
       "      <td>Hill</td>\n",
       "      <td>608</td>\n",
       "      <td>Spain</td>\n",
       "      <td>Female</td>\n",
       "      <td>41</td>\n",
       "      <td>1</td>\n",
       "      <td>83807.86</td>\n",
       "      <td>1</td>\n",
       "      <td>0</td>\n",
       "      <td>1</td>\n",
       "      <td>112542.58</td>\n",
       "      <td>0</td>\n",
       "    </tr>\n",
       "    <tr>\n",
       "      <th>2</th>\n",
       "      <td>3</td>\n",
       "      <td>15619304</td>\n",
       "      <td>Onio</td>\n",
       "      <td>502</td>\n",
       "      <td>France</td>\n",
       "      <td>Female</td>\n",
       "      <td>42</td>\n",
       "      <td>8</td>\n",
       "      <td>159660.80</td>\n",
       "      <td>3</td>\n",
       "      <td>1</td>\n",
       "      <td>0</td>\n",
       "      <td>113931.57</td>\n",
       "      <td>1</td>\n",
       "    </tr>\n",
       "    <tr>\n",
       "      <th>3</th>\n",
       "      <td>4</td>\n",
       "      <td>15701354</td>\n",
       "      <td>Boni</td>\n",
       "      <td>699</td>\n",
       "      <td>France</td>\n",
       "      <td>Female</td>\n",
       "      <td>39</td>\n",
       "      <td>1</td>\n",
       "      <td>0.00</td>\n",
       "      <td>2</td>\n",
       "      <td>0</td>\n",
       "      <td>0</td>\n",
       "      <td>93826.63</td>\n",
       "      <td>0</td>\n",
       "    </tr>\n",
       "    <tr>\n",
       "      <th>4</th>\n",
       "      <td>5</td>\n",
       "      <td>15737888</td>\n",
       "      <td>Mitchell</td>\n",
       "      <td>850</td>\n",
       "      <td>Spain</td>\n",
       "      <td>Female</td>\n",
       "      <td>43</td>\n",
       "      <td>2</td>\n",
       "      <td>125510.82</td>\n",
       "      <td>1</td>\n",
       "      <td>1</td>\n",
       "      <td>1</td>\n",
       "      <td>79084.10</td>\n",
       "      <td>0</td>\n",
       "    </tr>\n",
       "  </tbody>\n",
       "</table>\n",
       "</div>"
      ],
      "text/plain": [
       "   RowNumber  CustomerId   Surname  CreditScore Geography  Gender  Age  \\\n",
       "0          1    15634602  Hargrave          619    France  Female   42   \n",
       "1          2    15647311      Hill          608     Spain  Female   41   \n",
       "2          3    15619304      Onio          502    France  Female   42   \n",
       "3          4    15701354      Boni          699    France  Female   39   \n",
       "4          5    15737888  Mitchell          850     Spain  Female   43   \n",
       "\n",
       "   Tenure    Balance  NumOfProducts  HasCrCard  IsActiveMember  \\\n",
       "0       2       0.00              1          1               1   \n",
       "1       1   83807.86              1          0               1   \n",
       "2       8  159660.80              3          1               0   \n",
       "3       1       0.00              2          0               0   \n",
       "4       2  125510.82              1          1               1   \n",
       "\n",
       "   EstimatedSalary  Exited  \n",
       "0        101348.88       1  \n",
       "1        112542.58       0  \n",
       "2        113931.57       1  \n",
       "3         93826.63       0  \n",
       "4         79084.10       0  "
      ]
     },
     "execution_count": 24,
     "metadata": {},
     "output_type": "execute_result"
    }
   ],
   "source": [
    "data.head()"
   ]
  },
  {
   "cell_type": "code",
   "execution_count": 25,
   "id": "378a6b61",
   "metadata": {},
   "outputs": [
    {
     "data": {
      "text/plain": [
       "(10000, 14)"
      ]
     },
     "execution_count": 25,
     "metadata": {},
     "output_type": "execute_result"
    }
   ],
   "source": [
    "data.shape"
   ]
  },
  {
   "cell_type": "code",
   "execution_count": 26,
   "id": "1553b278",
   "metadata": {},
   "outputs": [],
   "source": [
    "data.drop(columns=['RowNumber' , 'Surname']  , inplace= True)"
   ]
  },
  {
   "cell_type": "code",
   "execution_count": 27,
   "id": "2a453635",
   "metadata": {},
   "outputs": [
    {
     "data": {
      "text/html": [
       "<div>\n",
       "<style scoped>\n",
       "    .dataframe tbody tr th:only-of-type {\n",
       "        vertical-align: middle;\n",
       "    }\n",
       "\n",
       "    .dataframe tbody tr th {\n",
       "        vertical-align: top;\n",
       "    }\n",
       "\n",
       "    .dataframe thead th {\n",
       "        text-align: right;\n",
       "    }\n",
       "</style>\n",
       "<table border=\"1\" class=\"dataframe\">\n",
       "  <thead>\n",
       "    <tr style=\"text-align: right;\">\n",
       "      <th></th>\n",
       "      <th>CustomerId</th>\n",
       "      <th>CreditScore</th>\n",
       "      <th>Geography</th>\n",
       "      <th>Gender</th>\n",
       "      <th>Age</th>\n",
       "      <th>Tenure</th>\n",
       "      <th>Balance</th>\n",
       "      <th>NumOfProducts</th>\n",
       "      <th>HasCrCard</th>\n",
       "      <th>IsActiveMember</th>\n",
       "      <th>EstimatedSalary</th>\n",
       "      <th>Exited</th>\n",
       "    </tr>\n",
       "  </thead>\n",
       "  <tbody>\n",
       "    <tr>\n",
       "      <th>0</th>\n",
       "      <td>15634602</td>\n",
       "      <td>619</td>\n",
       "      <td>France</td>\n",
       "      <td>Female</td>\n",
       "      <td>42</td>\n",
       "      <td>2</td>\n",
       "      <td>0.00</td>\n",
       "      <td>1</td>\n",
       "      <td>1</td>\n",
       "      <td>1</td>\n",
       "      <td>101348.88</td>\n",
       "      <td>1</td>\n",
       "    </tr>\n",
       "    <tr>\n",
       "      <th>1</th>\n",
       "      <td>15647311</td>\n",
       "      <td>608</td>\n",
       "      <td>Spain</td>\n",
       "      <td>Female</td>\n",
       "      <td>41</td>\n",
       "      <td>1</td>\n",
       "      <td>83807.86</td>\n",
       "      <td>1</td>\n",
       "      <td>0</td>\n",
       "      <td>1</td>\n",
       "      <td>112542.58</td>\n",
       "      <td>0</td>\n",
       "    </tr>\n",
       "    <tr>\n",
       "      <th>2</th>\n",
       "      <td>15619304</td>\n",
       "      <td>502</td>\n",
       "      <td>France</td>\n",
       "      <td>Female</td>\n",
       "      <td>42</td>\n",
       "      <td>8</td>\n",
       "      <td>159660.80</td>\n",
       "      <td>3</td>\n",
       "      <td>1</td>\n",
       "      <td>0</td>\n",
       "      <td>113931.57</td>\n",
       "      <td>1</td>\n",
       "    </tr>\n",
       "    <tr>\n",
       "      <th>3</th>\n",
       "      <td>15701354</td>\n",
       "      <td>699</td>\n",
       "      <td>France</td>\n",
       "      <td>Female</td>\n",
       "      <td>39</td>\n",
       "      <td>1</td>\n",
       "      <td>0.00</td>\n",
       "      <td>2</td>\n",
       "      <td>0</td>\n",
       "      <td>0</td>\n",
       "      <td>93826.63</td>\n",
       "      <td>0</td>\n",
       "    </tr>\n",
       "    <tr>\n",
       "      <th>4</th>\n",
       "      <td>15737888</td>\n",
       "      <td>850</td>\n",
       "      <td>Spain</td>\n",
       "      <td>Female</td>\n",
       "      <td>43</td>\n",
       "      <td>2</td>\n",
       "      <td>125510.82</td>\n",
       "      <td>1</td>\n",
       "      <td>1</td>\n",
       "      <td>1</td>\n",
       "      <td>79084.10</td>\n",
       "      <td>0</td>\n",
       "    </tr>\n",
       "  </tbody>\n",
       "</table>\n",
       "</div>"
      ],
      "text/plain": [
       "   CustomerId  CreditScore Geography  Gender  Age  Tenure    Balance  \\\n",
       "0    15634602          619    France  Female   42       2       0.00   \n",
       "1    15647311          608     Spain  Female   41       1   83807.86   \n",
       "2    15619304          502    France  Female   42       8  159660.80   \n",
       "3    15701354          699    France  Female   39       1       0.00   \n",
       "4    15737888          850     Spain  Female   43       2  125510.82   \n",
       "\n",
       "   NumOfProducts  HasCrCard  IsActiveMember  EstimatedSalary  Exited  \n",
       "0              1          1               1        101348.88       1  \n",
       "1              1          0               1        112542.58       0  \n",
       "2              3          1               0        113931.57       1  \n",
       "3              2          0               0         93826.63       0  \n",
       "4              1          1               1         79084.10       0  "
      ]
     },
     "execution_count": 27,
     "metadata": {},
     "output_type": "execute_result"
    }
   ],
   "source": [
    "data.head()"
   ]
  },
  {
   "cell_type": "code",
   "execution_count": 28,
   "id": "ca021ea6",
   "metadata": {},
   "outputs": [],
   "source": [
    "from sklearn.model_selection import train_test_split\n",
    "train_data , validation_data = train_test_split(data , test_size= .2 , random_state=2022) "
   ]
  },
  {
   "cell_type": "code",
   "execution_count": 29,
   "id": "409f70e3",
   "metadata": {},
   "outputs": [],
   "source": [
    "num_cols = list(set(train_data.describe().columns) - set(['CustomerId']))\n",
    "cat_cols = list(set(train_data.columns) - set(num_cols) - set(['CustomerId']))"
   ]
  },
  {
   "cell_type": "code",
   "execution_count": 30,
   "id": "34b6d367",
   "metadata": {},
   "outputs": [
    {
     "data": {
      "image/png": "[encoded data removed]",
      "text/plain": [
       "<Figure size 2000x1500 with 9 Axes>"
      ]
     },
     "metadata": {},
     "output_type": "display_data"
    }
   ],
   "source": [
    "train_data[num_cols].hist(bins=100 , figsize=(20,15));"
   ]
  },
  {
   "cell_type": "code",
   "execution_count": 31,
   "id": "7a830a8c",
   "metadata": {},
   "outputs": [],
   "source": [
    "#making dataframes each of them contains the categories of a catgegorical variable and theire frequencies\n",
    "df_list=[]\n",
    "for cat_column in cat_cols:\n",
    "    df_list.append(train_data.groupby([cat_column])['CustomerId'].count().reset_index().rename(columns = {'CustomerId' : 'count'}))"
   ]
  },
  {
   "cell_type": "code",
   "execution_count": 32,
   "id": "64f3f137",
   "metadata": {},
   "outputs": [
    {
     "data": {
      "image/png": "[encoded data removed]",
      "text/plain": [
       "<Figure size 1000x300 with 2 Axes>"
      ]
     },
     "metadata": {},
     "output_type": "display_data"
    }
   ],
   "source": [
    "fig, axes = plt.subplots(nrows=1, ncols=2, figsize=(10,3))\n",
    "i=0\n",
    "j=0\n",
    "for df in df_list:\n",
    "    axes[j].bar(df.iloc[:, 0],df.iloc[:, 1], color ='maroon')\n",
    "    axes[j].set_title(df.columns[0])\n",
    "    if(j<1):\n",
    "        j+=1\n",
    "    \n",
    "plt.show()"
   ]
  },
  {
   "cell_type": "code",
   "execution_count": 33,
   "id": "ec8b3148",
   "metadata": {},
   "outputs": [
    {
     "data": {
      "text/plain": [
       "CustomerId         0\n",
       "CreditScore        0\n",
       "Geography          0\n",
       "Gender             0\n",
       "Age                0\n",
       "Tenure             0\n",
       "Balance            0\n",
       "NumOfProducts      0\n",
       "HasCrCard          0\n",
       "IsActiveMember     0\n",
       "EstimatedSalary    0\n",
       "Exited             0\n",
       "dtype: int64"
      ]
     },
     "execution_count": 33,
     "metadata": {},
     "output_type": "execute_result"
    }
   ],
   "source": [
    "train_data.isna().sum()"
   ]
  },
  {
   "cell_type": "markdown",
   "id": "2a36c424",
   "metadata": {},
   "source": [
    "### Dropping any column which has 80% of values with the same value \n"
   ]
  },
  {
   "cell_type": "code",
   "execution_count": 34,
   "id": "dbe033a0",
   "metadata": {},
   "outputs": [],
   "source": [
    "num_cols = list(set(train_data.describe().columns.to_list()) - set(['CustomerId']))\n",
    "cat_cols = list(set(train_data.columns.to_list()) - set(num_cols) - set(['CustomerId']))\n",
    "\n",
    "def drop_redundant_coulmns(train_data , columns_type ):\n",
    "    check_value = (80/100) * train_data.shape[0]\n",
    "    droped_cols = []\n",
    "    for col in columns_type:\n",
    "        ma_x = max(train_data.groupby([col])['CustomerId'].count())\n",
    "        if ma_x >= check_value :\n",
    "            droped_cols.append(col)\n",
    "            train_data.drop(columns= [col], inplace=True)\n",
    "    return droped_cols  "
   ]
  },
  {
   "cell_type": "code",
   "execution_count": 35,
   "id": "02042a24",
   "metadata": {},
   "outputs": [
    {
     "data": {
      "text/plain": [
       "[]"
      ]
     },
     "execution_count": 35,
     "metadata": {},
     "output_type": "execute_result"
    }
   ],
   "source": [
    "drop_redundant_coulmns(train_data , num_cols)"
   ]
  },
  {
   "cell_type": "code",
   "execution_count": 36,
   "id": "eb76a3de",
   "metadata": {},
   "outputs": [
    {
     "data": {
      "text/plain": [
       "[]"
      ]
     },
     "execution_count": 36,
     "metadata": {},
     "output_type": "execute_result"
    }
   ],
   "source": [
    "drop_redundant_coulmns(train_data , cat_cols)"
   ]
  },
  {
   "cell_type": "code",
   "execution_count": 37,
   "id": "fc253f00",
   "metadata": {},
   "outputs": [],
   "source": [
    "num_cols = list(set(train_data.describe().columns.to_list()) - set(['CustomerId','HasCrCard','IsActiveMember','Exited']))\n",
    "cat_cols = list(set(train_data.columns.to_list()) - set(num_cols) - set(['CustomerId','HasCrCard','IsActiveMember','Exited']))"
   ]
  },
  {
   "cell_type": "markdown",
   "id": "dc52d755",
   "metadata": {},
   "source": [
    "# Handling Outliers \n",
    "- lower band = q1 - (1.5*IQR)\n",
    "- Upper band = q3 + (1.5*IQR)"
   ]
  },
  {
   "cell_type": "code",
   "execution_count": 38,
   "id": "01e1d86a",
   "metadata": {},
   "outputs": [],
   "source": [
    "# def outliers_clamping(train_data , num_cols):\n",
    "#     for col in num_cols:\n",
    "    \n",
    "#         Q1 = np.quantile(train_data[col] , .25)\n",
    "#         Q3 = np.quantile(train_data[col] , .75)\n",
    "\n",
    "#         IQR = Q3 - Q1\n",
    "\n",
    "#         Upper_Bound = Q3 + 1.5*IQR\n",
    "#         Lower_Bound = Q1 - 1.5*IQR\n",
    "\n",
    "#         indxs = train_data[train_data[col] > Upper_Bound][[col]].index \n",
    "#         train_data.loc[indxs , col] = Upper_Bound\n",
    "        \n",
    "#         indxs = validation_data[validation_data[col] > Upper_Bound][[col]].index \n",
    "#         validation_data.loc[indxs , col] = Upper_Bound\n",
    "        \n",
    "        \n",
    "#         indxs = train_data[train_data[col] < Lower_Bound][[col]].index \n",
    "#         train_data.loc[indxs , col] = Lower_Bound\n",
    "        \n",
    "#         indxs = validation_data[validation_data[col] < Lower_Bound][[col]].index \n",
    "#         validation_data.loc[indxs , col] = Lower_Bound\n",
    "\n",
    "# not need to handle outliers because data is small "
   ]
  },
  {
   "cell_type": "code",
   "execution_count": 39,
   "id": "e2252107",
   "metadata": {},
   "outputs": [],
   "source": [
    "# outliers_clamping(train_data, num_cols)"
   ]
  },
  {
   "cell_type": "markdown",
   "id": "75705f42",
   "metadata": {},
   "source": [
    "# Skewness Handling"
   ]
  },
  {
   "cell_type": "code",
   "execution_count": 40,
   "id": "4446366b",
   "metadata": {},
   "outputs": [],
   "source": [
    "def calc_skewness(train_data , num_cols):\n",
    "    N = train_data.shape[0]\n",
    "#     skewness_dic ={}\n",
    "    skewness_coef =[]\n",
    "    for col in num_cols:\n",
    "        skewness =np.sum((train_data[col] - np.mean(train_data[col]))**3) / ((N-1) * (np.std(train_data[col])**3))\n",
    "#         skewness_dic.update({col:skewness})\n",
    "        skewness_coef.append(skewness)\n",
    "    return skewness_coef "
   ]
  },
  {
   "cell_type": "code",
   "execution_count": 41,
   "id": "6c8f754d",
   "metadata": {},
   "outputs": [
    {
     "data": {
      "text/plain": [
       "[-0.06808853133508315,\n",
       " 1.0183075354502096,\n",
       " -0.14295552594968786,\n",
       " 0.0042880099133984165,\n",
       " 0.006118676559291461,\n",
       " 0.7744037329294179]"
      ]
     },
     "execution_count": 41,
     "metadata": {},
     "output_type": "execute_result"
    }
   ],
   "source": [
    "skewness_coef = calc_skewness(train_data , num_cols)\n",
    "skewness_coef"
   ]
  },
  {
   "cell_type": "code",
   "execution_count": 42,
   "id": "6f47d75f",
   "metadata": {},
   "outputs": [],
   "source": [
    "def log_transform(train_data , num_cols):\n",
    "    skewness_coef = calc_skewness(train_data , num_cols)\n",
    "    i=0\n",
    "    for col in num_cols:\n",
    "        if np.abs(skewness_coef[i]) > 1:\n",
    "            train_data[col] = np.log(1+ np.abs( train_data[col]))\n",
    "            validation_data[col] = np.log(1+ np.abs( validation_data[col]))\n",
    "            print(col)\n",
    "\n",
    "        i+=1    \n",
    "        \n",
    "    return train_data    "
   ]
  },
  {
   "cell_type": "code",
   "execution_count": 43,
   "id": "675182a1",
   "metadata": {
    "scrolled": true
   },
   "outputs": [
    {
     "name": "stdout",
     "output_type": "stream",
     "text": [
      "Age\n"
     ]
    },
    {
     "data": {
      "text/html": [
       "<div>\n",
       "<style scoped>\n",
       "    .dataframe tbody tr th:only-of-type {\n",
       "        vertical-align: middle;\n",
       "    }\n",
       "\n",
       "    .dataframe tbody tr th {\n",
       "        vertical-align: top;\n",
       "    }\n",
       "\n",
       "    .dataframe thead th {\n",
       "        text-align: right;\n",
       "    }\n",
       "</style>\n",
       "<table border=\"1\" class=\"dataframe\">\n",
       "  <thead>\n",
       "    <tr style=\"text-align: right;\">\n",
       "      <th></th>\n",
       "      <th>CustomerId</th>\n",
       "      <th>CreditScore</th>\n",
       "      <th>Geography</th>\n",
       "      <th>Gender</th>\n",
       "      <th>Age</th>\n",
       "      <th>Tenure</th>\n",
       "      <th>Balance</th>\n",
       "      <th>NumOfProducts</th>\n",
       "      <th>HasCrCard</th>\n",
       "      <th>IsActiveMember</th>\n",
       "      <th>EstimatedSalary</th>\n",
       "      <th>Exited</th>\n",
       "    </tr>\n",
       "  </thead>\n",
       "  <tbody>\n",
       "    <tr>\n",
       "      <th>5516</th>\n",
       "      <td>15569878</td>\n",
       "      <td>592</td>\n",
       "      <td>France</td>\n",
       "      <td>Male</td>\n",
       "      <td>3.637586</td>\n",
       "      <td>3</td>\n",
       "      <td>96651.03</td>\n",
       "      <td>1</td>\n",
       "      <td>1</td>\n",
       "      <td>1</td>\n",
       "      <td>3232.82</td>\n",
       "      <td>0</td>\n",
       "    </tr>\n",
       "    <tr>\n",
       "      <th>1255</th>\n",
       "      <td>15615032</td>\n",
       "      <td>624</td>\n",
       "      <td>Spain</td>\n",
       "      <td>Male</td>\n",
       "      <td>3.850148</td>\n",
       "      <td>3</td>\n",
       "      <td>0.00</td>\n",
       "      <td>2</td>\n",
       "      <td>1</td>\n",
       "      <td>1</td>\n",
       "      <td>62825.03</td>\n",
       "      <td>0</td>\n",
       "    </tr>\n",
       "    <tr>\n",
       "      <th>4319</th>\n",
       "      <td>15759456</td>\n",
       "      <td>609</td>\n",
       "      <td>Spain</td>\n",
       "      <td>Male</td>\n",
       "      <td>3.555348</td>\n",
       "      <td>7</td>\n",
       "      <td>140694.78</td>\n",
       "      <td>2</td>\n",
       "      <td>1</td>\n",
       "      <td>0</td>\n",
       "      <td>46266.63</td>\n",
       "      <td>0</td>\n",
       "    </tr>\n",
       "    <tr>\n",
       "      <th>9372</th>\n",
       "      <td>15775826</td>\n",
       "      <td>677</td>\n",
       "      <td>France</td>\n",
       "      <td>Male</td>\n",
       "      <td>3.433987</td>\n",
       "      <td>1</td>\n",
       "      <td>78133.15</td>\n",
       "      <td>1</td>\n",
       "      <td>0</td>\n",
       "      <td>1</td>\n",
       "      <td>174225.88</td>\n",
       "      <td>0</td>\n",
       "    </tr>\n",
       "    <tr>\n",
       "      <th>1723</th>\n",
       "      <td>15567422</td>\n",
       "      <td>630</td>\n",
       "      <td>France</td>\n",
       "      <td>Male</td>\n",
       "      <td>3.761200</td>\n",
       "      <td>6</td>\n",
       "      <td>0.00</td>\n",
       "      <td>2</td>\n",
       "      <td>1</td>\n",
       "      <td>0</td>\n",
       "      <td>162697.93</td>\n",
       "      <td>0</td>\n",
       "    </tr>\n",
       "    <tr>\n",
       "      <th>...</th>\n",
       "      <td>...</td>\n",
       "      <td>...</td>\n",
       "      <td>...</td>\n",
       "      <td>...</td>\n",
       "      <td>...</td>\n",
       "      <td>...</td>\n",
       "      <td>...</td>\n",
       "      <td>...</td>\n",
       "      <td>...</td>\n",
       "      <td>...</td>\n",
       "      <td>...</td>\n",
       "      <td>...</td>\n",
       "    </tr>\n",
       "    <tr>\n",
       "      <th>6384</th>\n",
       "      <td>15812073</td>\n",
       "      <td>529</td>\n",
       "      <td>France</td>\n",
       "      <td>Female</td>\n",
       "      <td>3.465736</td>\n",
       "      <td>7</td>\n",
       "      <td>0.00</td>\n",
       "      <td>2</td>\n",
       "      <td>1</td>\n",
       "      <td>1</td>\n",
       "      <td>175697.87</td>\n",
       "      <td>0</td>\n",
       "    </tr>\n",
       "    <tr>\n",
       "      <th>4720</th>\n",
       "      <td>15780654</td>\n",
       "      <td>619</td>\n",
       "      <td>Germany</td>\n",
       "      <td>Female</td>\n",
       "      <td>3.526361</td>\n",
       "      <td>3</td>\n",
       "      <td>100488.92</td>\n",
       "      <td>2</td>\n",
       "      <td>0</td>\n",
       "      <td>1</td>\n",
       "      <td>36446.74</td>\n",
       "      <td>0</td>\n",
       "    </tr>\n",
       "    <tr>\n",
       "      <th>173</th>\n",
       "      <td>15586310</td>\n",
       "      <td>578</td>\n",
       "      <td>France</td>\n",
       "      <td>Male</td>\n",
       "      <td>3.433987</td>\n",
       "      <td>4</td>\n",
       "      <td>169462.09</td>\n",
       "      <td>1</td>\n",
       "      <td>1</td>\n",
       "      <td>0</td>\n",
       "      <td>112187.11</td>\n",
       "      <td>0</td>\n",
       "    </tr>\n",
       "    <tr>\n",
       "      <th>1244</th>\n",
       "      <td>15616709</td>\n",
       "      <td>587</td>\n",
       "      <td>Germany</td>\n",
       "      <td>Female</td>\n",
       "      <td>3.663562</td>\n",
       "      <td>0</td>\n",
       "      <td>132122.42</td>\n",
       "      <td>2</td>\n",
       "      <td>0</td>\n",
       "      <td>0</td>\n",
       "      <td>31730.32</td>\n",
       "      <td>0</td>\n",
       "    </tr>\n",
       "    <tr>\n",
       "      <th>4989</th>\n",
       "      <td>15602851</td>\n",
       "      <td>629</td>\n",
       "      <td>France</td>\n",
       "      <td>Male</td>\n",
       "      <td>3.713572</td>\n",
       "      <td>9</td>\n",
       "      <td>0.00</td>\n",
       "      <td>1</td>\n",
       "      <td>1</td>\n",
       "      <td>0</td>\n",
       "      <td>106.67</td>\n",
       "      <td>0</td>\n",
       "    </tr>\n",
       "  </tbody>\n",
       "</table>\n",
       "<p>8000 rows × 12 columns</p>\n",
       "</div>"
      ],
      "text/plain": [
       "      CustomerId  CreditScore Geography  Gender       Age  Tenure    Balance  \\\n",
       "5516    15569878          592    France    Male  3.637586       3   96651.03   \n",
       "1255    15615032          624     Spain    Male  3.850148       3       0.00   \n",
       "4319    15759456          609     Spain    Male  3.555348       7  140694.78   \n",
       "9372    15775826          677    France    Male  3.433987       1   78133.15   \n",
       "1723    15567422          630    France    Male  3.761200       6       0.00   \n",
       "...          ...          ...       ...     ...       ...     ...        ...   \n",
       "6384    15812073          529    France  Female  3.465736       7       0.00   \n",
       "4720    15780654          619   Germany  Female  3.526361       3  100488.92   \n",
       "173     15586310          578    France    Male  3.433987       4  169462.09   \n",
       "1244    15616709          587   Germany  Female  3.663562       0  132122.42   \n",
       "4989    15602851          629    France    Male  3.713572       9       0.00   \n",
       "\n",
       "      NumOfProducts  HasCrCard  IsActiveMember  EstimatedSalary  Exited  \n",
       "5516              1          1               1          3232.82       0  \n",
       "1255              2          1               1         62825.03       0  \n",
       "4319              2          1               0         46266.63       0  \n",
       "9372              1          0               1        174225.88       0  \n",
       "1723              2          1               0        162697.93       0  \n",
       "...             ...        ...             ...              ...     ...  \n",
       "6384              2          1               1        175697.87       0  \n",
       "4720              2          0               1         36446.74       0  \n",
       "173               1          1               0        112187.11       0  \n",
       "1244              2          0               0         31730.32       0  \n",
       "4989              1          1               0           106.67       0  \n",
       "\n",
       "[8000 rows x 12 columns]"
      ]
     },
     "execution_count": 43,
     "metadata": {},
     "output_type": "execute_result"
    }
   ],
   "source": [
    "log_transform(train_data , num_cols)"
   ]
  },
  {
   "cell_type": "code",
   "execution_count": 44,
   "id": "4b828022",
   "metadata": {},
   "outputs": [
    {
     "name": "stdout",
     "output_type": "stream",
     "text": [
      "CreditScore looks like gaussian (fail to reject H0)\n",
      "W_Statistic=0.994, p=0.04311322 \n",
      "\n",
      "Age looks like gaussian (fail to reject H0)\n",
      "W_Statistic=0.991, p=0.00356955 \n",
      "\n",
      "Balance does not look Gaussian (reject H0)\n",
      "W_Statistic=0.847, p=0.00000000 \n",
      "\n",
      "Tenure does not look Gaussian (reject H0)\n",
      "W_Statistic=0.952, p=0.00000000 \n",
      "\n",
      "EstimatedSalary does not look Gaussian (reject H0)\n",
      "W_Statistic=0.957, p=0.00000000 \n",
      "\n",
      "NumOfProducts does not look Gaussian (reject H0)\n",
      "W_Statistic=0.722, p=0.00000000 \n",
      "\n"
     ]
    }
   ],
   "source": [
    "feats_std_scale = []\n",
    "feats_min_max_scale = []\n",
    "sample_data = train_data.sample(replace=False , n= 500)\n",
    "from scipy.stats import shapiro\n",
    "for col in num_cols:\n",
    "    w_stat, p = shapiro(sample_data[col])\n",
    "    \n",
    "\n",
    "    alpha = .001\n",
    "    if p > alpha:\n",
    "        print(f'{col} looks like gaussian (fail to reject H0)')\n",
    "        print('W_Statistic=%.3f, p=%.8f \\n' % (w_stat, p))\n",
    "        feats_std_scale.append(col)\n",
    "    else:\n",
    "        print(f'{col} does not look Gaussian (reject H0)')\n",
    "        print('W_Statistic=%.3f, p=%.8f \\n' % (w_stat, p))\n",
    "        feats_min_max_scale.append(col)"
   ]
  },
  {
   "cell_type": "code",
   "execution_count": 45,
   "id": "9a68e637",
   "metadata": {},
   "outputs": [
    {
     "data": {
      "text/plain": [
       "['CreditScore', 'Age']"
      ]
     },
     "execution_count": 45,
     "metadata": {},
     "output_type": "execute_result"
    }
   ],
   "source": [
    "feats_std_scale"
   ]
  },
  {
   "cell_type": "code",
   "execution_count": 46,
   "id": "746375aa",
   "metadata": {},
   "outputs": [
    {
     "data": {
      "text/plain": [
       "['Balance', 'Tenure', 'EstimatedSalary', 'NumOfProducts']"
      ]
     },
     "execution_count": 46,
     "metadata": {},
     "output_type": "execute_result"
    }
   ],
   "source": [
    "feats_min_max_scale "
   ]
  },
  {
   "cell_type": "code",
   "execution_count": 47,
   "id": "01a37f26",
   "metadata": {},
   "outputs": [
    {
     "data": {
      "text/html": [
       "<div>\n",
       "<style scoped>\n",
       "    .dataframe tbody tr th:only-of-type {\n",
       "        vertical-align: middle;\n",
       "    }\n",
       "\n",
       "    .dataframe tbody tr th {\n",
       "        vertical-align: top;\n",
       "    }\n",
       "\n",
       "    .dataframe thead th {\n",
       "        text-align: right;\n",
       "    }\n",
       "</style>\n",
       "<table border=\"1\" class=\"dataframe\">\n",
       "  <thead>\n",
       "    <tr style=\"text-align: right;\">\n",
       "      <th></th>\n",
       "      <th>CustomerId</th>\n",
       "      <th>CreditScore</th>\n",
       "      <th>Geography</th>\n",
       "      <th>Gender</th>\n",
       "      <th>Age</th>\n",
       "      <th>Tenure</th>\n",
       "      <th>Balance</th>\n",
       "      <th>NumOfProducts</th>\n",
       "      <th>HasCrCard</th>\n",
       "      <th>IsActiveMember</th>\n",
       "      <th>EstimatedSalary</th>\n",
       "      <th>Exited</th>\n",
       "    </tr>\n",
       "  </thead>\n",
       "  <tbody>\n",
       "    <tr>\n",
       "      <th>5516</th>\n",
       "      <td>15569878</td>\n",
       "      <td>592</td>\n",
       "      <td>France</td>\n",
       "      <td>Male</td>\n",
       "      <td>3.637586</td>\n",
       "      <td>3</td>\n",
       "      <td>96651.03</td>\n",
       "      <td>1</td>\n",
       "      <td>1</td>\n",
       "      <td>1</td>\n",
       "      <td>3232.82</td>\n",
       "      <td>0</td>\n",
       "    </tr>\n",
       "    <tr>\n",
       "      <th>1255</th>\n",
       "      <td>15615032</td>\n",
       "      <td>624</td>\n",
       "      <td>Spain</td>\n",
       "      <td>Male</td>\n",
       "      <td>3.850148</td>\n",
       "      <td>3</td>\n",
       "      <td>0.00</td>\n",
       "      <td>2</td>\n",
       "      <td>1</td>\n",
       "      <td>1</td>\n",
       "      <td>62825.03</td>\n",
       "      <td>0</td>\n",
       "    </tr>\n",
       "    <tr>\n",
       "      <th>4319</th>\n",
       "      <td>15759456</td>\n",
       "      <td>609</td>\n",
       "      <td>Spain</td>\n",
       "      <td>Male</td>\n",
       "      <td>3.555348</td>\n",
       "      <td>7</td>\n",
       "      <td>140694.78</td>\n",
       "      <td>2</td>\n",
       "      <td>1</td>\n",
       "      <td>0</td>\n",
       "      <td>46266.63</td>\n",
       "      <td>0</td>\n",
       "    </tr>\n",
       "    <tr>\n",
       "      <th>9372</th>\n",
       "      <td>15775826</td>\n",
       "      <td>677</td>\n",
       "      <td>France</td>\n",
       "      <td>Male</td>\n",
       "      <td>3.433987</td>\n",
       "      <td>1</td>\n",
       "      <td>78133.15</td>\n",
       "      <td>1</td>\n",
       "      <td>0</td>\n",
       "      <td>1</td>\n",
       "      <td>174225.88</td>\n",
       "      <td>0</td>\n",
       "    </tr>\n",
       "    <tr>\n",
       "      <th>1723</th>\n",
       "      <td>15567422</td>\n",
       "      <td>630</td>\n",
       "      <td>France</td>\n",
       "      <td>Male</td>\n",
       "      <td>3.761200</td>\n",
       "      <td>6</td>\n",
       "      <td>0.00</td>\n",
       "      <td>2</td>\n",
       "      <td>1</td>\n",
       "      <td>0</td>\n",
       "      <td>162697.93</td>\n",
       "      <td>0</td>\n",
       "    </tr>\n",
       "  </tbody>\n",
       "</table>\n",
       "</div>"
      ],
      "text/plain": [
       "      CustomerId  CreditScore Geography Gender       Age  Tenure    Balance  \\\n",
       "5516    15569878          592    France   Male  3.637586       3   96651.03   \n",
       "1255    15615032          624     Spain   Male  3.850148       3       0.00   \n",
       "4319    15759456          609     Spain   Male  3.555348       7  140694.78   \n",
       "9372    15775826          677    France   Male  3.433987       1   78133.15   \n",
       "1723    15567422          630    France   Male  3.761200       6       0.00   \n",
       "\n",
       "      NumOfProducts  HasCrCard  IsActiveMember  EstimatedSalary  Exited  \n",
       "5516              1          1               1          3232.82       0  \n",
       "1255              2          1               1         62825.03       0  \n",
       "4319              2          1               0         46266.63       0  \n",
       "9372              1          0               1        174225.88       0  \n",
       "1723              2          1               0        162697.93       0  "
      ]
     },
     "execution_count": 47,
     "metadata": {},
     "output_type": "execute_result"
    }
   ],
   "source": [
    "train_data.head()"
   ]
  },
  {
   "cell_type": "code",
   "execution_count": 48,
   "id": "c3cffe92",
   "metadata": {},
   "outputs": [],
   "source": [
    "from sklearn.preprocessing import MinMaxScaler\n",
    "from sklearn.preprocessing import StandardScaler\n",
    "\n",
    "min_max_scaler = MinMaxScaler()\n",
    "train_data[feats_min_max_scale] = min_max_scaler.fit_transform(train_data[feats_min_max_scale])\n",
    "validation_data[feats_min_max_scale] = min_max_scaler.transform(validation_data[feats_min_max_scale])\n",
    "\n",
    "\n",
    "\n",
    "std_scaler = StandardScaler()\n",
    "train_data[feats_std_scale] = std_scaler.fit_transform(train_data[feats_std_scale])\n",
    "validation_data[feats_std_scale] = std_scaler.transform(validation_data[feats_std_scale])\n"
   ]
  },
  {
   "cell_type": "code",
   "execution_count": 49,
   "id": "96e113e5",
   "metadata": {},
   "outputs": [
    {
     "data": {
      "text/html": [
       "<div>\n",
       "<style scoped>\n",
       "    .dataframe tbody tr th:only-of-type {\n",
       "        vertical-align: middle;\n",
       "    }\n",
       "\n",
       "    .dataframe tbody tr th {\n",
       "        vertical-align: top;\n",
       "    }\n",
       "\n",
       "    .dataframe thead th {\n",
       "        text-align: right;\n",
       "    }\n",
       "</style>\n",
       "<table border=\"1\" class=\"dataframe\">\n",
       "  <thead>\n",
       "    <tr style=\"text-align: right;\">\n",
       "      <th></th>\n",
       "      <th>CustomerId</th>\n",
       "      <th>CreditScore</th>\n",
       "      <th>Geography</th>\n",
       "      <th>Gender</th>\n",
       "      <th>Age</th>\n",
       "      <th>Tenure</th>\n",
       "      <th>Balance</th>\n",
       "      <th>NumOfProducts</th>\n",
       "      <th>HasCrCard</th>\n",
       "      <th>IsActiveMember</th>\n",
       "      <th>EstimatedSalary</th>\n",
       "      <th>Exited</th>\n",
       "    </tr>\n",
       "  </thead>\n",
       "  <tbody>\n",
       "    <tr>\n",
       "      <th>5516</th>\n",
       "      <td>15569878</td>\n",
       "      <td>-0.609957</td>\n",
       "      <td>France</td>\n",
       "      <td>Male</td>\n",
       "      <td>-0.066483</td>\n",
       "      <td>0.3</td>\n",
       "      <td>0.385220</td>\n",
       "      <td>0.000000</td>\n",
       "      <td>1</td>\n",
       "      <td>1</td>\n",
       "      <td>0.016108</td>\n",
       "      <td>0</td>\n",
       "    </tr>\n",
       "    <tr>\n",
       "      <th>1255</th>\n",
       "      <td>15615032</td>\n",
       "      <td>-0.278558</td>\n",
       "      <td>Spain</td>\n",
       "      <td>Male</td>\n",
       "      <td>0.775196</td>\n",
       "      <td>0.3</td>\n",
       "      <td>0.000000</td>\n",
       "      <td>0.333333</td>\n",
       "      <td>1</td>\n",
       "      <td>1</td>\n",
       "      <td>0.314097</td>\n",
       "      <td>0</td>\n",
       "    </tr>\n",
       "    <tr>\n",
       "      <th>4319</th>\n",
       "      <td>15759456</td>\n",
       "      <td>-0.433901</td>\n",
       "      <td>Spain</td>\n",
       "      <td>Male</td>\n",
       "      <td>-0.392121</td>\n",
       "      <td>0.7</td>\n",
       "      <td>0.560765</td>\n",
       "      <td>0.333333</td>\n",
       "      <td>1</td>\n",
       "      <td>0</td>\n",
       "      <td>0.231297</td>\n",
       "      <td>0</td>\n",
       "    </tr>\n",
       "    <tr>\n",
       "      <th>9372</th>\n",
       "      <td>15775826</td>\n",
       "      <td>0.270320</td>\n",
       "      <td>France</td>\n",
       "      <td>Male</td>\n",
       "      <td>-0.872673</td>\n",
       "      <td>0.1</td>\n",
       "      <td>0.311414</td>\n",
       "      <td>0.000000</td>\n",
       "      <td>0</td>\n",
       "      <td>1</td>\n",
       "      <td>0.871155</td>\n",
       "      <td>0</td>\n",
       "    </tr>\n",
       "    <tr>\n",
       "      <th>1723</th>\n",
       "      <td>15567422</td>\n",
       "      <td>-0.216421</td>\n",
       "      <td>France</td>\n",
       "      <td>Male</td>\n",
       "      <td>0.422991</td>\n",
       "      <td>0.6</td>\n",
       "      <td>0.000000</td>\n",
       "      <td>0.333333</td>\n",
       "      <td>1</td>\n",
       "      <td>0</td>\n",
       "      <td>0.813509</td>\n",
       "      <td>0</td>\n",
       "    </tr>\n",
       "  </tbody>\n",
       "</table>\n",
       "</div>"
      ],
      "text/plain": [
       "      CustomerId  CreditScore Geography Gender       Age  Tenure   Balance  \\\n",
       "5516    15569878    -0.609957    France   Male -0.066483     0.3  0.385220   \n",
       "1255    15615032    -0.278558     Spain   Male  0.775196     0.3  0.000000   \n",
       "4319    15759456    -0.433901     Spain   Male -0.392121     0.7  0.560765   \n",
       "9372    15775826     0.270320    France   Male -0.872673     0.1  0.311414   \n",
       "1723    15567422    -0.216421    France   Male  0.422991     0.6  0.000000   \n",
       "\n",
       "      NumOfProducts  HasCrCard  IsActiveMember  EstimatedSalary  Exited  \n",
       "5516       0.000000          1               1         0.016108       0  \n",
       "1255       0.333333          1               1         0.314097       0  \n",
       "4319       0.333333          1               0         0.231297       0  \n",
       "9372       0.000000          0               1         0.871155       0  \n",
       "1723       0.333333          1               0         0.813509       0  "
      ]
     },
     "execution_count": 49,
     "metadata": {},
     "output_type": "execute_result"
    }
   ],
   "source": [
    "train_data.head()"
   ]
  },
  {
   "cell_type": "code",
   "execution_count": 50,
   "id": "4cf3e41c",
   "metadata": {},
   "outputs": [
    {
     "data": {
      "text/plain": [
       "['Geography', 'Gender']"
      ]
     },
     "execution_count": 50,
     "metadata": {},
     "output_type": "execute_result"
    }
   ],
   "source": [
    "cat_cols"
   ]
  },
  {
   "cell_type": "code",
   "execution_count": 51,
   "id": "c400d58a",
   "metadata": {},
   "outputs": [],
   "source": [
    "from sklearn.preprocessing import LabelEncoder\n",
    "from sklearn.preprocessing import OneHotEncoder\n",
    "label_encoder = LabelEncoder()\n",
    "train_data['Gender'] = label_encoder.fit_transform(train_data['Gender'])\n",
    "validation_data['Gender'] = label_encoder.transform(validation_data['Gender'])\n",
    "\n",
    "one_hot_enc_model = OneHotEncoder(sparse_output = False).fit(train_data[['Geography']])\n",
    "nominal_train_data = one_hot_enc_model.transform(train_data[['Geography']])\n",
    "nominal_val_data = one_hot_enc_model.transform(train_data[['Geography']])\n",
    "\n",
    "a=one_hot_enc_model.categories_\n",
    "col_names=[]\n",
    "for list_ in a:\n",
    "    for element in list_:\n",
    "        col_names.append(element)\n",
    "\n",
    "nominal_train_df = pd.DataFrame(nominal_train_data, columns = col_names)\n",
    "nominal_val_df = pd.DataFrame(nominal_val_data, columns = col_names)\n"
   ]
  },
  {
   "cell_type": "code",
   "execution_count": 52,
   "id": "f398cdd0",
   "metadata": {},
   "outputs": [
    {
     "data": {
      "text/html": [
       "<div>\n",
       "<style scoped>\n",
       "    .dataframe tbody tr th:only-of-type {\n",
       "        vertical-align: middle;\n",
       "    }\n",
       "\n",
       "    .dataframe tbody tr th {\n",
       "        vertical-align: top;\n",
       "    }\n",
       "\n",
       "    .dataframe thead th {\n",
       "        text-align: right;\n",
       "    }\n",
       "</style>\n",
       "<table border=\"1\" class=\"dataframe\">\n",
       "  <thead>\n",
       "    <tr style=\"text-align: right;\">\n",
       "      <th></th>\n",
       "      <th>France</th>\n",
       "      <th>Germany</th>\n",
       "      <th>Spain</th>\n",
       "    </tr>\n",
       "  </thead>\n",
       "  <tbody>\n",
       "    <tr>\n",
       "      <th>0</th>\n",
       "      <td>1.0</td>\n",
       "      <td>0.0</td>\n",
       "      <td>0.0</td>\n",
       "    </tr>\n",
       "    <tr>\n",
       "      <th>1</th>\n",
       "      <td>0.0</td>\n",
       "      <td>0.0</td>\n",
       "      <td>1.0</td>\n",
       "    </tr>\n",
       "    <tr>\n",
       "      <th>2</th>\n",
       "      <td>0.0</td>\n",
       "      <td>0.0</td>\n",
       "      <td>1.0</td>\n",
       "    </tr>\n",
       "    <tr>\n",
       "      <th>3</th>\n",
       "      <td>1.0</td>\n",
       "      <td>0.0</td>\n",
       "      <td>0.0</td>\n",
       "    </tr>\n",
       "    <tr>\n",
       "      <th>4</th>\n",
       "      <td>1.0</td>\n",
       "      <td>0.0</td>\n",
       "      <td>0.0</td>\n",
       "    </tr>\n",
       "    <tr>\n",
       "      <th>...</th>\n",
       "      <td>...</td>\n",
       "      <td>...</td>\n",
       "      <td>...</td>\n",
       "    </tr>\n",
       "    <tr>\n",
       "      <th>7995</th>\n",
       "      <td>1.0</td>\n",
       "      <td>0.0</td>\n",
       "      <td>0.0</td>\n",
       "    </tr>\n",
       "    <tr>\n",
       "      <th>7996</th>\n",
       "      <td>0.0</td>\n",
       "      <td>1.0</td>\n",
       "      <td>0.0</td>\n",
       "    </tr>\n",
       "    <tr>\n",
       "      <th>7997</th>\n",
       "      <td>1.0</td>\n",
       "      <td>0.0</td>\n",
       "      <td>0.0</td>\n",
       "    </tr>\n",
       "    <tr>\n",
       "      <th>7998</th>\n",
       "      <td>0.0</td>\n",
       "      <td>1.0</td>\n",
       "      <td>0.0</td>\n",
       "    </tr>\n",
       "    <tr>\n",
       "      <th>7999</th>\n",
       "      <td>1.0</td>\n",
       "      <td>0.0</td>\n",
       "      <td>0.0</td>\n",
       "    </tr>\n",
       "  </tbody>\n",
       "</table>\n",
       "<p>8000 rows × 3 columns</p>\n",
       "</div>"
      ],
      "text/plain": [
       "      France  Germany  Spain\n",
       "0        1.0      0.0    0.0\n",
       "1        0.0      0.0    1.0\n",
       "2        0.0      0.0    1.0\n",
       "3        1.0      0.0    0.0\n",
       "4        1.0      0.0    0.0\n",
       "...      ...      ...    ...\n",
       "7995     1.0      0.0    0.0\n",
       "7996     0.0      1.0    0.0\n",
       "7997     1.0      0.0    0.0\n",
       "7998     0.0      1.0    0.0\n",
       "7999     1.0      0.0    0.0\n",
       "\n",
       "[8000 rows x 3 columns]"
      ]
     },
     "execution_count": 52,
     "metadata": {},
     "output_type": "execute_result"
    }
   ],
   "source": [
    "nominal_train_df"
   ]
  },
  {
   "cell_type": "code",
   "execution_count": 53,
   "id": "df46a0cd",
   "metadata": {},
   "outputs": [
    {
     "data": {
      "text/plain": [
       "(8000, 12)"
      ]
     },
     "execution_count": 53,
     "metadata": {},
     "output_type": "execute_result"
    }
   ],
   "source": [
    "train_data.shape"
   ]
  },
  {
   "cell_type": "code",
   "execution_count": 54,
   "id": "aa876dc6",
   "metadata": {},
   "outputs": [],
   "source": [
    "train_data = train_data.reset_index().drop(columns=['index'])\n",
    "validation_data = validation_data.reset_index().drop(columns=['index'])\n",
    "# this step to can make inner merge"
   ]
  },
  {
   "cell_type": "code",
   "execution_count": 55,
   "id": "0018f97a",
   "metadata": {},
   "outputs": [],
   "source": [
    "train_data = train_data.drop(columns=['Geography','CustomerId']).merge(nominal_train_df , right_index=True , left_index=True, how='inner')\n",
    "validation_data = validation_data.drop(columns=['Geography','CustomerId']).merge(nominal_val_df , right_index=True , left_index=True ,  how='inner')"
   ]
  },
  {
   "cell_type": "code",
   "execution_count": 56,
   "id": "73346027",
   "metadata": {},
   "outputs": [
    {
     "data": {
      "text/html": [
       "<div>\n",
       "<style scoped>\n",
       "    .dataframe tbody tr th:only-of-type {\n",
       "        vertical-align: middle;\n",
       "    }\n",
       "\n",
       "    .dataframe tbody tr th {\n",
       "        vertical-align: top;\n",
       "    }\n",
       "\n",
       "    .dataframe thead th {\n",
       "        text-align: right;\n",
       "    }\n",
       "</style>\n",
       "<table border=\"1\" class=\"dataframe\">\n",
       "  <thead>\n",
       "    <tr style=\"text-align: right;\">\n",
       "      <th></th>\n",
       "      <th>CreditScore</th>\n",
       "      <th>Gender</th>\n",
       "      <th>Age</th>\n",
       "      <th>Tenure</th>\n",
       "      <th>Balance</th>\n",
       "      <th>NumOfProducts</th>\n",
       "      <th>HasCrCard</th>\n",
       "      <th>IsActiveMember</th>\n",
       "      <th>EstimatedSalary</th>\n",
       "      <th>Exited</th>\n",
       "      <th>France</th>\n",
       "      <th>Germany</th>\n",
       "      <th>Spain</th>\n",
       "    </tr>\n",
       "  </thead>\n",
       "  <tbody>\n",
       "    <tr>\n",
       "      <th>0</th>\n",
       "      <td>-0.609957</td>\n",
       "      <td>1</td>\n",
       "      <td>-0.066483</td>\n",
       "      <td>0.3</td>\n",
       "      <td>0.385220</td>\n",
       "      <td>0.000000</td>\n",
       "      <td>1</td>\n",
       "      <td>1</td>\n",
       "      <td>0.016108</td>\n",
       "      <td>0</td>\n",
       "      <td>1.0</td>\n",
       "      <td>0.0</td>\n",
       "      <td>0.0</td>\n",
       "    </tr>\n",
       "    <tr>\n",
       "      <th>1</th>\n",
       "      <td>-0.278558</td>\n",
       "      <td>1</td>\n",
       "      <td>0.775196</td>\n",
       "      <td>0.3</td>\n",
       "      <td>0.000000</td>\n",
       "      <td>0.333333</td>\n",
       "      <td>1</td>\n",
       "      <td>1</td>\n",
       "      <td>0.314097</td>\n",
       "      <td>0</td>\n",
       "      <td>0.0</td>\n",
       "      <td>0.0</td>\n",
       "      <td>1.0</td>\n",
       "    </tr>\n",
       "    <tr>\n",
       "      <th>2</th>\n",
       "      <td>-0.433901</td>\n",
       "      <td>1</td>\n",
       "      <td>-0.392121</td>\n",
       "      <td>0.7</td>\n",
       "      <td>0.560765</td>\n",
       "      <td>0.333333</td>\n",
       "      <td>1</td>\n",
       "      <td>0</td>\n",
       "      <td>0.231297</td>\n",
       "      <td>0</td>\n",
       "      <td>0.0</td>\n",
       "      <td>0.0</td>\n",
       "      <td>1.0</td>\n",
       "    </tr>\n",
       "    <tr>\n",
       "      <th>3</th>\n",
       "      <td>0.270320</td>\n",
       "      <td>1</td>\n",
       "      <td>-0.872673</td>\n",
       "      <td>0.1</td>\n",
       "      <td>0.311414</td>\n",
       "      <td>0.000000</td>\n",
       "      <td>0</td>\n",
       "      <td>1</td>\n",
       "      <td>0.871155</td>\n",
       "      <td>0</td>\n",
       "      <td>1.0</td>\n",
       "      <td>0.0</td>\n",
       "      <td>0.0</td>\n",
       "    </tr>\n",
       "    <tr>\n",
       "      <th>4</th>\n",
       "      <td>-0.216421</td>\n",
       "      <td>1</td>\n",
       "      <td>0.422991</td>\n",
       "      <td>0.6</td>\n",
       "      <td>0.000000</td>\n",
       "      <td>0.333333</td>\n",
       "      <td>1</td>\n",
       "      <td>0</td>\n",
       "      <td>0.813509</td>\n",
       "      <td>0</td>\n",
       "      <td>1.0</td>\n",
       "      <td>0.0</td>\n",
       "      <td>0.0</td>\n",
       "    </tr>\n",
       "    <tr>\n",
       "      <th>...</th>\n",
       "      <td>...</td>\n",
       "      <td>...</td>\n",
       "      <td>...</td>\n",
       "      <td>...</td>\n",
       "      <td>...</td>\n",
       "      <td>...</td>\n",
       "      <td>...</td>\n",
       "      <td>...</td>\n",
       "      <td>...</td>\n",
       "      <td>...</td>\n",
       "      <td>...</td>\n",
       "      <td>...</td>\n",
       "      <td>...</td>\n",
       "    </tr>\n",
       "    <tr>\n",
       "      <th>7995</th>\n",
       "      <td>-1.262397</td>\n",
       "      <td>0</td>\n",
       "      <td>-0.746958</td>\n",
       "      <td>0.7</td>\n",
       "      <td>0.000000</td>\n",
       "      <td>0.333333</td>\n",
       "      <td>1</td>\n",
       "      <td>1</td>\n",
       "      <td>0.878515</td>\n",
       "      <td>0</td>\n",
       "      <td>1.0</td>\n",
       "      <td>0.0</td>\n",
       "      <td>0.0</td>\n",
       "    </tr>\n",
       "    <tr>\n",
       "      <th>7996</th>\n",
       "      <td>-0.330339</td>\n",
       "      <td>0</td>\n",
       "      <td>-0.506902</td>\n",
       "      <td>0.3</td>\n",
       "      <td>0.400517</td>\n",
       "      <td>0.333333</td>\n",
       "      <td>0</td>\n",
       "      <td>1</td>\n",
       "      <td>0.182193</td>\n",
       "      <td>0</td>\n",
       "      <td>0.0</td>\n",
       "      <td>1.0</td>\n",
       "      <td>0.0</td>\n",
       "    </tr>\n",
       "    <tr>\n",
       "      <th>7997</th>\n",
       "      <td>-0.754943</td>\n",
       "      <td>1</td>\n",
       "      <td>-0.872673</td>\n",
       "      <td>0.4</td>\n",
       "      <td>0.675422</td>\n",
       "      <td>0.000000</td>\n",
       "      <td>1</td>\n",
       "      <td>0</td>\n",
       "      <td>0.560931</td>\n",
       "      <td>0</td>\n",
       "      <td>1.0</td>\n",
       "      <td>0.0</td>\n",
       "      <td>0.0</td>\n",
       "    </tr>\n",
       "    <tr>\n",
       "      <th>7998</th>\n",
       "      <td>-0.661738</td>\n",
       "      <td>0</td>\n",
       "      <td>0.036372</td>\n",
       "      <td>0.0</td>\n",
       "      <td>0.526598</td>\n",
       "      <td>0.333333</td>\n",
       "      <td>0</td>\n",
       "      <td>0</td>\n",
       "      <td>0.158609</td>\n",
       "      <td>0</td>\n",
       "      <td>0.0</td>\n",
       "      <td>1.0</td>\n",
       "      <td>0.0</td>\n",
       "    </tr>\n",
       "    <tr>\n",
       "      <th>7999</th>\n",
       "      <td>-0.226777</td>\n",
       "      <td>1</td>\n",
       "      <td>0.234399</td>\n",
       "      <td>0.9</td>\n",
       "      <td>0.000000</td>\n",
       "      <td>0.000000</td>\n",
       "      <td>1</td>\n",
       "      <td>0</td>\n",
       "      <td>0.000475</td>\n",
       "      <td>0</td>\n",
       "      <td>1.0</td>\n",
       "      <td>0.0</td>\n",
       "      <td>0.0</td>\n",
       "    </tr>\n",
       "  </tbody>\n",
       "</table>\n",
       "<p>8000 rows × 13 columns</p>\n",
       "</div>"
      ],
      "text/plain": [
       "      CreditScore  Gender       Age  Tenure   Balance  NumOfProducts  \\\n",
       "0       -0.609957       1 -0.066483     0.3  0.385220       0.000000   \n",
       "1       -0.278558       1  0.775196     0.3  0.000000       0.333333   \n",
       "2       -0.433901       1 -0.392121     0.7  0.560765       0.333333   \n",
       "3        0.270320       1 -0.872673     0.1  0.311414       0.000000   \n",
       "4       -0.216421       1  0.422991     0.6  0.000000       0.333333   \n",
       "...           ...     ...       ...     ...       ...            ...   \n",
       "7995    -1.262397       0 -0.746958     0.7  0.000000       0.333333   \n",
       "7996    -0.330339       0 -0.506902     0.3  0.400517       0.333333   \n",
       "7997    -0.754943       1 -0.872673     0.4  0.675422       0.000000   \n",
       "7998    -0.661738       0  0.036372     0.0  0.526598       0.333333   \n",
       "7999    -0.226777       1  0.234399     0.9  0.000000       0.000000   \n",
       "\n",
       "      HasCrCard  IsActiveMember  EstimatedSalary  Exited  France  Germany  \\\n",
       "0             1               1         0.016108       0     1.0      0.0   \n",
       "1             1               1         0.314097       0     0.0      0.0   \n",
       "2             1               0         0.231297       0     0.0      0.0   \n",
       "3             0               1         0.871155       0     1.0      0.0   \n",
       "4             1               0         0.813509       0     1.0      0.0   \n",
       "...         ...             ...              ...     ...     ...      ...   \n",
       "7995          1               1         0.878515       0     1.0      0.0   \n",
       "7996          0               1         0.182193       0     0.0      1.0   \n",
       "7997          1               0         0.560931       0     1.0      0.0   \n",
       "7998          0               0         0.158609       0     0.0      1.0   \n",
       "7999          1               0         0.000475       0     1.0      0.0   \n",
       "\n",
       "      Spain  \n",
       "0       0.0  \n",
       "1       1.0  \n",
       "2       1.0  \n",
       "3       0.0  \n",
       "4       0.0  \n",
       "...     ...  \n",
       "7995    0.0  \n",
       "7996    0.0  \n",
       "7997    0.0  \n",
       "7998    0.0  \n",
       "7999    0.0  \n",
       "\n",
       "[8000 rows x 13 columns]"
      ]
     },
     "execution_count": 56,
     "metadata": {},
     "output_type": "execute_result"
    }
   ],
   "source": [
    "train_data"
   ]
  },
  {
   "cell_type": "markdown",
   "id": "1f52785e",
   "metadata": {},
   "source": [
    "# handle unbalanced data by under sampling\n"
   ]
  },
  {
   "cell_type": "code",
   "execution_count": 136,
   "id": "e63760d7",
   "metadata": {},
   "outputs": [
    {
     "data": {
      "text/plain": [
       "0.2547051442910916"
      ]
     },
     "execution_count": 136,
     "metadata": {},
     "output_type": "execute_result"
    }
   ],
   "source": [
    "len(train_data[train_data['Exited'] == 1]) / len(train_data[train_data['Exited'] == 0])"
   ]
  },
  {
   "cell_type": "code",
   "execution_count": 138,
   "id": "dc9c049f",
   "metadata": {},
   "outputs": [
    {
     "data": {
      "text/html": [
       "<div>\n",
       "<style scoped>\n",
       "    .dataframe tbody tr th:only-of-type {\n",
       "        vertical-align: middle;\n",
       "    }\n",
       "\n",
       "    .dataframe tbody tr th {\n",
       "        vertical-align: top;\n",
       "    }\n",
       "\n",
       "    .dataframe thead th {\n",
       "        text-align: right;\n",
       "    }\n",
       "</style>\n",
       "<table border=\"1\" class=\"dataframe\">\n",
       "  <thead>\n",
       "    <tr style=\"text-align: right;\">\n",
       "      <th></th>\n",
       "      <th>CreditScore</th>\n",
       "      <th>Gender</th>\n",
       "      <th>Age</th>\n",
       "      <th>Tenure</th>\n",
       "      <th>Balance</th>\n",
       "      <th>NumOfProducts</th>\n",
       "      <th>HasCrCard</th>\n",
       "      <th>IsActiveMember</th>\n",
       "      <th>EstimatedSalary</th>\n",
       "      <th>Exited</th>\n",
       "      <th>France</th>\n",
       "      <th>Germany</th>\n",
       "      <th>Spain</th>\n",
       "    </tr>\n",
       "  </thead>\n",
       "  <tbody>\n",
       "    <tr>\n",
       "      <th>7</th>\n",
       "      <td>0.311745</td>\n",
       "      <td>1</td>\n",
       "      <td>0.514023</td>\n",
       "      <td>0.3</td>\n",
       "      <td>0.264405</td>\n",
       "      <td>0.000000</td>\n",
       "      <td>1</td>\n",
       "      <td>1</td>\n",
       "      <td>0.093814</td>\n",
       "      <td>1</td>\n",
       "      <td>1.0</td>\n",
       "      <td>0.0</td>\n",
       "      <td>0.0</td>\n",
       "    </tr>\n",
       "    <tr>\n",
       "      <th>11</th>\n",
       "      <td>-0.247490</td>\n",
       "      <td>0</td>\n",
       "      <td>1.468951</td>\n",
       "      <td>0.6</td>\n",
       "      <td>0.000000</td>\n",
       "      <td>0.000000</td>\n",
       "      <td>0</td>\n",
       "      <td>0</td>\n",
       "      <td>0.459706</td>\n",
       "      <td>1</td>\n",
       "      <td>0.0</td>\n",
       "      <td>0.0</td>\n",
       "      <td>1.0</td>\n",
       "    </tr>\n",
       "    <tr>\n",
       "      <th>12</th>\n",
       "      <td>-0.143928</td>\n",
       "      <td>1</td>\n",
       "      <td>-0.872673</td>\n",
       "      <td>0.1</td>\n",
       "      <td>0.486993</td>\n",
       "      <td>0.000000</td>\n",
       "      <td>1</td>\n",
       "      <td>0</td>\n",
       "      <td>0.512823</td>\n",
       "      <td>1</td>\n",
       "      <td>0.0</td>\n",
       "      <td>1.0</td>\n",
       "      <td>0.0</td>\n",
       "    </tr>\n",
       "    <tr>\n",
       "      <th>24</th>\n",
       "      <td>2.061942</td>\n",
       "      <td>0</td>\n",
       "      <td>-0.280572</td>\n",
       "      <td>0.2</td>\n",
       "      <td>0.322568</td>\n",
       "      <td>0.000000</td>\n",
       "      <td>0</td>\n",
       "      <td>0</td>\n",
       "      <td>0.063146</td>\n",
       "      <td>1</td>\n",
       "      <td>0.0</td>\n",
       "      <td>1.0</td>\n",
       "      <td>0.0</td>\n",
       "    </tr>\n",
       "    <tr>\n",
       "      <th>31</th>\n",
       "      <td>-0.402833</td>\n",
       "      <td>1</td>\n",
       "      <td>-0.506902</td>\n",
       "      <td>0.5</td>\n",
       "      <td>0.276919</td>\n",
       "      <td>0.000000</td>\n",
       "      <td>1</td>\n",
       "      <td>0</td>\n",
       "      <td>0.044815</td>\n",
       "      <td>1</td>\n",
       "      <td>0.0</td>\n",
       "      <td>0.0</td>\n",
       "      <td>1.0</td>\n",
       "    </tr>\n",
       "    <tr>\n",
       "      <th>...</th>\n",
       "      <td>...</td>\n",
       "      <td>...</td>\n",
       "      <td>...</td>\n",
       "      <td>...</td>\n",
       "      <td>...</td>\n",
       "      <td>...</td>\n",
       "      <td>...</td>\n",
       "      <td>...</td>\n",
       "      <td>...</td>\n",
       "      <td>...</td>\n",
       "      <td>...</td>\n",
       "      <td>...</td>\n",
       "      <td>...</td>\n",
       "    </tr>\n",
       "    <tr>\n",
       "      <th>2091</th>\n",
       "      <td>-0.723875</td>\n",
       "      <td>0</td>\n",
       "      <td>0.775196</td>\n",
       "      <td>0.1</td>\n",
       "      <td>0.000000</td>\n",
       "      <td>0.333333</td>\n",
       "      <td>1</td>\n",
       "      <td>0</td>\n",
       "      <td>0.521352</td>\n",
       "      <td>0</td>\n",
       "      <td>0.0</td>\n",
       "      <td>0.0</td>\n",
       "      <td>1.0</td>\n",
       "    </tr>\n",
       "    <tr>\n",
       "      <th>169</th>\n",
       "      <td>-2.080537</td>\n",
       "      <td>1</td>\n",
       "      <td>-1.569146</td>\n",
       "      <td>0.9</td>\n",
       "      <td>0.295886</td>\n",
       "      <td>0.333333</td>\n",
       "      <td>0</td>\n",
       "      <td>1</td>\n",
       "      <td>0.977352</td>\n",
       "      <td>0</td>\n",
       "      <td>0.0</td>\n",
       "      <td>0.0</td>\n",
       "      <td>1.0</td>\n",
       "    </tr>\n",
       "    <tr>\n",
       "      <th>725</th>\n",
       "      <td>0.601718</td>\n",
       "      <td>1</td>\n",
       "      <td>1.935336</td>\n",
       "      <td>0.3</td>\n",
       "      <td>0.000000</td>\n",
       "      <td>0.333333</td>\n",
       "      <td>1</td>\n",
       "      <td>1</td>\n",
       "      <td>0.410957</td>\n",
       "      <td>0</td>\n",
       "      <td>0.0</td>\n",
       "      <td>0.0</td>\n",
       "      <td>1.0</td>\n",
       "    </tr>\n",
       "    <tr>\n",
       "      <th>897</th>\n",
       "      <td>-1.987331</td>\n",
       "      <td>1</td>\n",
       "      <td>1.098617</td>\n",
       "      <td>0.5</td>\n",
       "      <td>0.435985</td>\n",
       "      <td>0.000000</td>\n",
       "      <td>1</td>\n",
       "      <td>0</td>\n",
       "      <td>0.778622</td>\n",
       "      <td>0</td>\n",
       "      <td>0.0</td>\n",
       "      <td>1.0</td>\n",
       "      <td>0.0</td>\n",
       "    </tr>\n",
       "    <tr>\n",
       "      <th>3908</th>\n",
       "      <td>0.850267</td>\n",
       "      <td>1</td>\n",
       "      <td>-0.172081</td>\n",
       "      <td>0.1</td>\n",
       "      <td>0.000000</td>\n",
       "      <td>0.333333</td>\n",
       "      <td>0</td>\n",
       "      <td>1</td>\n",
       "      <td>0.541883</td>\n",
       "      <td>0</td>\n",
       "      <td>0.0</td>\n",
       "      <td>0.0</td>\n",
       "      <td>1.0</td>\n",
       "    </tr>\n",
       "  </tbody>\n",
       "</table>\n",
       "<p>3218 rows × 13 columns</p>\n",
       "</div>"
      ],
      "text/plain": [
       "      CreditScore  Gender       Age  Tenure   Balance  NumOfProducts  \\\n",
       "7        0.311745       1  0.514023     0.3  0.264405       0.000000   \n",
       "11      -0.247490       0  1.468951     0.6  0.000000       0.000000   \n",
       "12      -0.143928       1 -0.872673     0.1  0.486993       0.000000   \n",
       "24       2.061942       0 -0.280572     0.2  0.322568       0.000000   \n",
       "31      -0.402833       1 -0.506902     0.5  0.276919       0.000000   \n",
       "...           ...     ...       ...     ...       ...            ...   \n",
       "2091    -0.723875       0  0.775196     0.1  0.000000       0.333333   \n",
       "169     -2.080537       1 -1.569146     0.9  0.295886       0.333333   \n",
       "725      0.601718       1  1.935336     0.3  0.000000       0.333333   \n",
       "897     -1.987331       1  1.098617     0.5  0.435985       0.000000   \n",
       "3908     0.850267       1 -0.172081     0.1  0.000000       0.333333   \n",
       "\n",
       "      HasCrCard  IsActiveMember  EstimatedSalary  Exited  France  Germany  \\\n",
       "7             1               1         0.093814       1     1.0      0.0   \n",
       "11            0               0         0.459706       1     0.0      0.0   \n",
       "12            1               0         0.512823       1     0.0      1.0   \n",
       "24            0               0         0.063146       1     0.0      1.0   \n",
       "31            1               0         0.044815       1     0.0      0.0   \n",
       "...         ...             ...              ...     ...     ...      ...   \n",
       "2091          1               0         0.521352       0     0.0      0.0   \n",
       "169           0               1         0.977352       0     0.0      0.0   \n",
       "725           1               1         0.410957       0     0.0      0.0   \n",
       "897           1               0         0.778622       0     0.0      1.0   \n",
       "3908          0               1         0.541883       0     0.0      0.0   \n",
       "\n",
       "      Spain  \n",
       "7       0.0  \n",
       "11      1.0  \n",
       "12      0.0  \n",
       "24      0.0  \n",
       "31      1.0  \n",
       "...     ...  \n",
       "2091    1.0  \n",
       "169     1.0  \n",
       "725     1.0  \n",
       "897     0.0  \n",
       "3908    1.0  \n",
       "\n",
       "[3218 rows x 13 columns]"
      ]
     },
     "execution_count": 138,
     "metadata": {},
     "output_type": "execute_result"
    }
   ],
   "source": [
    "rare_class_data = train_data[train_data['Exited'] == 1]\n",
    "dominant_class_data = train_data[train_data['Exited'] == 0]\n",
    "under_sample_class = dominant_class_data.sample(frac=.25 , replace=False , random_state=2022)\n",
    "train_data_balnced = pd.concat((rare_class_data , under_sample_class) , axis=0)\n",
    "train_data_balnced"
   ]
  },
  {
   "cell_type": "code",
   "execution_count": 139,
   "id": "31a375d0",
   "metadata": {},
   "outputs": [],
   "source": [
    "x_train = train_data_balnced.drop(columns=['Exited'])\n",
    "y_train = train_data_balnced['Exited']\n",
    "\n",
    "x_val = validation_data.drop(columns=['Exited'])\n",
    "y_val = validation_data['Exited']"
   ]
  },
  {
   "cell_type": "markdown",
   "id": "080d630a",
   "metadata": {},
   "source": [
    "# Logistic Regression From Scratch"
   ]
  },
  {
   "cell_type": "code",
   "execution_count": 222,
   "id": "559216c9",
   "metadata": {},
   "outputs": [],
   "source": [
    "def initialize(x , bais=True):\n",
    "    if bais :\n",
    "        params = np.zeros((x.shape[1]+1 , 1))\n",
    "        x = np.c_[np.ones((x.shape[0],1)) , x]\n",
    "    else:\n",
    "        params = np.zeros((x.shape[1] , 1))\n",
    "        \n",
    "    return params , x\n",
    "\n",
    "def sigmoid(z):\n",
    "    sig = 1/(1+np.e ** (-z))\n",
    "    return sig\n",
    "\n",
    "def fit(x , y , lr=.001 , bais=True , max_itr=100):\n",
    "    params , x = initialize(x,bais)\n",
    "    for i in range(max_itr):\n",
    "        params = params - lr * ((x.T).dot(sigmoid(np.dot(x , params)) - np.reshape(y , (len(y),1))))\n",
    "        \n",
    "    return params\n",
    "\n",
    "def predict(x, optimal_para, bais=True , threshold=.5):\n",
    "    z = np.dot(initialize(x,bais)[1] , optimal_para)\n",
    "    pred=[]\n",
    "    for predicted_value in sigmoid(z):\n",
    "        if predicted_value > threshold:\n",
    "            pred.append(1)\n",
    "        else:\n",
    "            pred.append(0)\n",
    "    return pred\n",
    "    \n",
    "bais = True\n",
    "max_itr = 100\n",
    "lr = .001\n",
    "thershold = 0.5\n",
    "params = fit(x_train , y_train , lr= lr , bais=bais , max_itr=max_itr)"
   ]
  },
  {
   "cell_type": "code",
   "execution_count": 223,
   "id": "cca44714",
   "metadata": {},
   "outputs": [],
   "source": [
    "train_pred = predict(x_train, params, bais=bais , threshold=thershold)"
   ]
  },
  {
   "cell_type": "code",
   "execution_count": 224,
   "id": "c5f56efd",
   "metadata": {},
   "outputs": [
    {
     "data": {
      "text/plain": [
       "0.7131758856432567"
      ]
     },
     "execution_count": 224,
     "metadata": {},
     "output_type": "execute_result"
    }
   ],
   "source": [
    "from sklearn.metrics import accuracy_score\n",
    "accuracy_score(train_pred , y_train)"
   ]
  },
  {
   "cell_type": "code",
   "execution_count": 225,
   "id": "d994ffb6",
   "metadata": {},
   "outputs": [],
   "source": [
    "val_pred = predict(x_val, params, bais=bais , threshold=thershold)"
   ]
  },
  {
   "cell_type": "code",
   "execution_count": 226,
   "id": "942f3c49",
   "metadata": {},
   "outputs": [
    {
     "data": {
      "text/plain": [
       "0.694"
      ]
     },
     "execution_count": 226,
     "metadata": {},
     "output_type": "execute_result"
    }
   ],
   "source": [
    "accuracy_score(val_pred , y_val)"
   ]
  },
  {
   "cell_type": "markdown",
   "id": "8ceedce2",
   "metadata": {},
   "source": [
    "### accuracy before balance is higher but Misleading , after balance it will we decrease but model will predict more good"
   ]
  },
  {
   "cell_type": "markdown",
   "id": "e815fb0b",
   "metadata": {},
   "source": [
    "# sklearn model"
   ]
  },
  {
   "cell_type": "code",
   "execution_count": 227,
   "id": "810b4e9d",
   "metadata": {},
   "outputs": [
    {
     "data": {
      "text/plain": [
       "0.6945"
      ]
     },
     "execution_count": 227,
     "metadata": {},
     "output_type": "execute_result"
    }
   ],
   "source": [
    "from sklearn.linear_model import LogisticRegression\n",
    "model = LogisticRegression(max_iter= max_itr , fit_intercept=bais)\n",
    "model.fit(x_train , y_train)\n",
    "y_sklearn_pred = model.predict(x_val)\n",
    "accuracy_score(y_sklearn_pred ,y_val)"
   ]
  },
  {
   "cell_type": "code",
   "execution_count": 228,
   "id": "d35aa704",
   "metadata": {
    "scrolled": false
   },
   "outputs": [
    {
     "data": {
      "text/html": [
       "<div>\n",
       "<style scoped>\n",
       "    .dataframe tbody tr th:only-of-type {\n",
       "        vertical-align: middle;\n",
       "    }\n",
       "\n",
       "    .dataframe tbody tr th {\n",
       "        vertical-align: top;\n",
       "    }\n",
       "\n",
       "    .dataframe thead th {\n",
       "        text-align: right;\n",
       "    }\n",
       "</style>\n",
       "<table border=\"1\" class=\"dataframe\">\n",
       "  <thead>\n",
       "    <tr style=\"text-align: right;\">\n",
       "      <th></th>\n",
       "      <th>predicted_not_churn</th>\n",
       "      <th>predicted_churn</th>\n",
       "    </tr>\n",
       "  </thead>\n",
       "  <tbody>\n",
       "    <tr>\n",
       "      <th>actual_not_churn</th>\n",
       "      <td>1085</td>\n",
       "      <td>502</td>\n",
       "    </tr>\n",
       "    <tr>\n",
       "      <th>actual_churn</th>\n",
       "      <td>110</td>\n",
       "      <td>303</td>\n",
       "    </tr>\n",
       "  </tbody>\n",
       "</table>\n",
       "</div>"
      ],
      "text/plain": [
       "                  predicted_not_churn  predicted_churn\n",
       "actual_not_churn                 1085              502\n",
       "actual_churn                      110              303"
      ]
     },
     "execution_count": 228,
     "metadata": {},
     "output_type": "execute_result"
    }
   ],
   "source": [
    "from sklearn.metrics import confusion_matrix\n",
    "confusion_matrix = pd.DataFrame(confusion_matrix(y_val, val_pred)).rename(index={0:'actual_not_churn' ,1:'actual_churn'},\n",
    "                                                                          columns={0:'predicted_not_churn' ,1:'predicted_churn'})\n",
    "confusion_matrix"
   ]
  },
  {
   "cell_type": "code",
   "execution_count": 229,
   "id": "079a4869",
   "metadata": {},
   "outputs": [],
   "source": [
    "people_predicted_not_churn = confusion_matrix.iloc[: ,0].sum()\n",
    "people_predicted_churn = confusion_matrix.iloc[: ,1].sum()\n",
    "\n",
    "people_actual_not_churn = confusion_matrix.iloc[0,:].sum()\n",
    "people_actual_churn = confusion_matrix.iloc[1,:].sum()\n"
   ]
  },
  {
   "cell_type": "code",
   "execution_count": 230,
   "id": "85892252",
   "metadata": {},
   "outputs": [],
   "source": [
    "precison_not_churn = confusion_matrix.iloc[0,0] / people_predicted_not_churn\n",
    "precison_churn = confusion_matrix.iloc[1,1] / people_predicted_churn\n",
    "\n",
    "recall_not_churn = confusion_matrix.iloc[0,0] / people_actual_not_churn\n",
    "recall_churn = confusion_matrix.iloc[1,1] / people_actual_churn\n",
    "\n",
    "F1_score_not_churn = 2 * ((precison_not_churn*recall_not_churn)/(precison_not_churn+recall_not_churn))\n",
    "F1_score_churn = 2 * ((precison_churn*recall_churn)/(precison_churn+recall_churn))"
   ]
  },
  {
   "cell_type": "code",
   "execution_count": 231,
   "id": "25a0a1d4",
   "metadata": {},
   "outputs": [
    {
     "name": "stdout",
     "output_type": "stream",
     "text": [
      "people_predicted_not_churn :1195\n",
      "people_predicted_churn :805\n",
      "people_actual_not_churn :1587\n",
      "people_actual_churn :413\n",
      "precison_not_churn :0.9079497907949791\n",
      "precison_churn :0.3763975155279503\n",
      "recall_not_churn: 0.6836798991808444\n",
      "recall_churn : 0.7336561743341404\n",
      "F1_score_not_churn : 0.7800143781452193\n",
      "F1_score_churn : 0.4975369458128079\n"
     ]
    }
   ],
   "source": [
    "print(f\"people_predicted_not_churn :{people_predicted_not_churn}\")\n",
    "print(f\"people_predicted_churn :{people_predicted_churn}\")\n",
    "print(f\"people_actual_not_churn :{people_actual_not_churn}\")\n",
    "print(f\"people_actual_churn :{people_actual_churn}\")\n",
    "print(f\"precison_not_churn :{precison_not_churn}\")\n",
    "print(f\"precison_churn :{precison_churn}\")\n",
    "print(f\"recall_not_churn: {recall_not_churn}\")\n",
    "print(f\"recall_churn : {recall_churn}\")\n",
    "print(f\"F1_score_not_churn : {F1_score_not_churn}\")\n",
    "print(f\"F1_score_churn : {F1_score_churn}\")"
   ]
  },
  {
   "cell_type": "markdown",
   "id": "3a848a49",
   "metadata": {},
   "source": [
    "#####  before balance the data recall churn is bad because i have unbalanced data  so we should balance data before training"
   ]
  },
  {
   "cell_type": "code",
   "execution_count": 232,
   "id": "a69d7b65",
   "metadata": {},
   "outputs": [
    {
     "data": {
      "text/plain": [
       "0.7336561743341404"
      ]
     },
     "execution_count": 232,
     "metadata": {},
     "output_type": "execute_result"
    }
   ],
   "source": [
    "from sklearn.metrics import recall_score\n",
    "recall_score(y_val,val_pred,pos_label=1)"
   ]
  },
  {
   "cell_type": "code",
   "execution_count": 233,
   "id": "d6ff77bd",
   "metadata": {},
   "outputs": [
    {
     "data": {
      "text/plain": [
       "0.9079497907949791"
      ]
     },
     "execution_count": 233,
     "metadata": {},
     "output_type": "execute_result"
    }
   ],
   "source": [
    "from sklearn.metrics import precision_score\n",
    "precision_score(y_val,val_pred,pos_label=0)"
   ]
  },
  {
   "cell_type": "code",
   "execution_count": 234,
   "id": "2a7266c1",
   "metadata": {},
   "outputs": [
    {
     "data": {
      "image/png": "[encoded data removed]",
      "text/plain": [
       "<Figure size 640x480 with 1 Axes>"
      ]
     },
     "metadata": {},
     "output_type": "display_data"
    }
   ],
   "source": [
    "from sklearn.metrics import roc_curve , roc_auc_score\n",
    "y_pred_proba = model.predict_proba(x_val)[::,1]\n",
    "fpr , tpr , thresholds = roc_curve(y_val , y_pred_proba)\n",
    "auc = roc_auc_score(y_val , y_pred_proba)\n",
    "plt.plot(fpr , tpr , label = \"AUC=\"+str(auc))\n",
    "plt.ylabel('tpr')\n",
    "plt.xlabel('fpr')\n",
    "plt.legend(loc = 2)\n",
    "plt.show()"
   ]
  },
  {
   "cell_type": "markdown",
   "id": "d6cb000b",
   "metadata": {},
   "source": [
    "### if I want recall >= 70% "
   ]
  },
  {
   "cell_type": "code",
   "execution_count": 239,
   "id": "323308e8",
   "metadata": {},
   "outputs": [
    {
     "data": {
      "text/plain": [
       "0.5119691544248328"
      ]
     },
     "execution_count": 239,
     "metadata": {},
     "output_type": "execute_result"
    }
   ],
   "source": [
    "x = np.where(tpr>=.7)[0][0] # first value\n",
    "thershold_need = thresholds[x]\n",
    "thershold_need\n",
    "# if i take this theshold and put it in my model i will get needed recall\n",
    "#but precsion will decrease "
   ]
  }
 ],
 "metadata": {
  "kernelspec": {
   "display_name": "Python 3 (ipykernel)",
   "language": "python",
   "name": "python3"
  },
  "language_info": {
   "codemirror_mode": {
    "name": "ipython",
    "version": 3
   },
   "file_extension": ".py",
   "mimetype": "text/x-python",
   "name": "python",
   "nbconvert_exporter": "python",
   "pygments_lexer": "ipython3",
   "version": "3.11.5"
  }
 },
 "nbformat": 4,
 "nbformat_minor": 5
}
