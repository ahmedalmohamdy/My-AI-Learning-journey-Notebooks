{
 "cells": [
  {
   "cell_type": "markdown",
   "id": "53b78999",
   "metadata": {},
   "source": [
    "# Regression model Notebook\n",
    "- Coded By : <span style=\"color: red;\">Eng.Ahmed Almohamdy</span>\n"
   ]
  },
  {
   "cell_type": "markdown",
   "id": "1fa61466",
   "metadata": {},
   "source": [
    "# Implementing the linear regression model from scratch using the closed form solution\n",
    "- this method used in sklearn not GD"
   ]
  },
  {
   "cell_type": "markdown",
   "id": "61d9265e",
   "metadata": {},
   "source": [
    "### Trying a naive approach that implements the closed form solution as it is on non-perfect data\n",
    "![image.png](data:image/png;base64,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)"
   ]
  },
  {
   "cell_type": "code",
   "execution_count": 36,
   "id": "f31fdf13",
   "metadata": {},
   "outputs": [],
   "source": [
    "# # should produce an error \n",
    "# x_transpose = np.transpose(X_train.values)\n",
    "# xT_x = np.matmul(x_transpose , X_train.values)\n",
    "# inverse_xT_x = np.linalg.inv(xT_x)\n",
    "# optimum_coefficients = np.matmul((np.matmul(inverse_xT_x, x_transpose)), y_train.values)"
   ]
  },
  {
   "cell_type": "markdown",
   "id": "dcd938a9",
   "metadata": {},
   "source": [
    "### Treating the previous error using the Singular Value Decomposition to calculate the pseudo-inverse of the data matrix\n",
    "optimal coefficients = ![image.png](data:image/png;base64,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)"
   ]
  },
  {
   "cell_type": "code",
   "execution_count": 37,
   "id": "54f08885",
   "metadata": {},
   "outputs": [],
   "source": [
    "# # calculating the economy svd (where the u matrix has the same size as the data matrix X, nad the sigma matrix is square matrix)\n",
    "# # AKA: no silent vectors in the u Matrix, so it is not square and not orthogonal (uTu = I, but uuT is != I)\n",
    "# def linear_reg_SVD(X, Y, zero_threshold = 1e-13):\n",
    "#   u, s, vT = np.linalg.svd(X, full_matrices= False)\n",
    "\n",
    "#   # Now initialize the \"pseudo-\"inverse of Sigma, where \"pseudo\" means \"don't divide by zero\"\n",
    "#   sigma_pseudo_inverse = np.zeros((vT.shape[0], vT.shape[0]))\n",
    "\n",
    "#   ## getting the index of the first approximately zero singular value\n",
    "#   idx_nearly_zero_sigma= np.where(s <= zero_threshold)[0][0]\n",
    "\n",
    "#   # 1/non-zero diagonal elements calculation\n",
    "#   sigma_pseudo_inverse[:idx_nearly_zero_sigma,:idx_nearly_zero_sigma] = np.diag(1/s[ :idx_nearly_zero_sigma])\n",
    "#   #the above three lines could have been calculated via:\n",
    "#   # sigma_pseudo_inverse = = np.linalg.pinv(np.diag(s), rcond=1e-13)\n",
    "\n",
    "#   # calculating the optimal coefficients\n",
    "#   optimal_coefficients = vT.T.dot(sigma_pseudo_inverse).dot(u.T).dot(Y)\n",
    "#   return optimal_coefficients"
   ]
  },
  {
   "cell_type": "code",
   "execution_count": 38,
   "id": "02cbdab1",
   "metadata": {},
   "outputs": [],
   "source": [
    "# optimal_coefficients = linear_reg_SVD(X_train, y_train, zero_threshold = 1e-13)\n",
    "# y_hat_from_scratch = X_train.values.dot(optimal_coefficients)"
   ]
  },
  {
   "cell_type": "markdown",
   "id": "c7940ae6",
   "metadata": {},
   "source": [
    "### Comparing our output to the implemented solution in sklearn (which is calculated using the pseudo inverse of train data as we did above)"
   ]
  },
  {
   "cell_type": "code",
   "execution_count": 42,
   "id": "a2c9ecf9",
   "metadata": {},
   "outputs": [
    {
     "data": {
      "text/html": [
       "<style>#sk-container-id-1 {color: black;}#sk-container-id-1 pre{padding: 0;}#sk-container-id-1 div.sk-toggleable {background-color: white;}#sk-container-id-1 label.sk-toggleable__label {cursor: pointer;display: block;width: 100%;margin-bottom: 0;padding: 0.3em;box-sizing: border-box;text-align: center;}#sk-container-id-1 label.sk-toggleable__label-arrow:before {content: \"▸\";float: left;margin-right: 0.25em;color: #696969;}#sk-container-id-1 label.sk-toggleable__label-arrow:hover:before {color: black;}#sk-container-id-1 div.sk-estimator:hover label.sk-toggleable__label-arrow:before {color: black;}#sk-container-id-1 div.sk-toggleable__content {max-height: 0;max-width: 0;overflow: hidden;text-align: left;background-color: #f0f8ff;}#sk-container-id-1 div.sk-toggleable__content pre {margin: 0.2em;color: black;border-radius: 0.25em;background-color: #f0f8ff;}#sk-container-id-1 input.sk-toggleable__control:checked~div.sk-toggleable__content {max-height: 200px;max-width: 100%;overflow: auto;}#sk-container-id-1 input.sk-toggleable__control:checked~label.sk-toggleable__label-arrow:before {content: \"▾\";}#sk-container-id-1 div.sk-estimator input.sk-toggleable__control:checked~label.sk-toggleable__label {background-color: #d4ebff;}#sk-container-id-1 div.sk-label input.sk-toggleable__control:checked~label.sk-toggleable__label {background-color: #d4ebff;}#sk-container-id-1 input.sk-hidden--visually {border: 0;clip: rect(1px 1px 1px 1px);clip: rect(1px, 1px, 1px, 1px);height: 1px;margin: -1px;overflow: hidden;padding: 0;position: absolute;width: 1px;}#sk-container-id-1 div.sk-estimator {font-family: monospace;background-color: #f0f8ff;border: 1px dotted black;border-radius: 0.25em;box-sizing: border-box;margin-bottom: 0.5em;}#sk-container-id-1 div.sk-estimator:hover {background-color: #d4ebff;}#sk-container-id-1 div.sk-parallel-item::after {content: \"\";width: 100%;border-bottom: 1px solid gray;flex-grow: 1;}#sk-container-id-1 div.sk-label:hover label.sk-toggleable__label {background-color: #d4ebff;}#sk-container-id-1 div.sk-serial::before {content: \"\";position: absolute;border-left: 1px solid gray;box-sizing: border-box;top: 0;bottom: 0;left: 50%;z-index: 0;}#sk-container-id-1 div.sk-serial {display: flex;flex-direction: column;align-items: center;background-color: white;padding-right: 0.2em;padding-left: 0.2em;position: relative;}#sk-container-id-1 div.sk-item {position: relative;z-index: 1;}#sk-container-id-1 div.sk-parallel {display: flex;align-items: stretch;justify-content: center;background-color: white;position: relative;}#sk-container-id-1 div.sk-item::before, #sk-container-id-1 div.sk-parallel-item::before {content: \"\";position: absolute;border-left: 1px solid gray;box-sizing: border-box;top: 0;bottom: 0;left: 50%;z-index: -1;}#sk-container-id-1 div.sk-parallel-item {display: flex;flex-direction: column;z-index: 1;position: relative;background-color: white;}#sk-container-id-1 div.sk-parallel-item:first-child::after {align-self: flex-end;width: 50%;}#sk-container-id-1 div.sk-parallel-item:last-child::after {align-self: flex-start;width: 50%;}#sk-container-id-1 div.sk-parallel-item:only-child::after {width: 0;}#sk-container-id-1 div.sk-dashed-wrapped {border: 1px dashed gray;margin: 0 0.4em 0.5em 0.4em;box-sizing: border-box;padding-bottom: 0.4em;background-color: white;}#sk-container-id-1 div.sk-label label {font-family: monospace;font-weight: bold;display: inline-block;line-height: 1.2em;}#sk-container-id-1 div.sk-label-container {text-align: center;}#sk-container-id-1 div.sk-container {/* jupyter's `normalize.less` sets `[hidden] { display: none; }` but bootstrap.min.css set `[hidden] { display: none !important; }` so we also need the `!important` here to be able to override the default hidden behavior on the sphinx rendered scikit-learn.org. See: https://github.com/scikit-learn/scikit-learn/issues/21755 */display: inline-block !important;position: relative;}#sk-container-id-1 div.sk-text-repr-fallback {display: none;}</style><div id=\"sk-container-id-1\" class=\"sk-top-container\"><div class=\"sk-text-repr-fallback\"><pre>LinearRegression()</pre><b>In a Jupyter environment, please rerun this cell to show the HTML representation or trust the notebook. <br />On GitHub, the HTML representation is unable to render, please try loading this page with nbviewer.org.</b></div><div class=\"sk-container\" hidden><div class=\"sk-item\"><div class=\"sk-estimator sk-toggleable\"><input class=\"sk-toggleable__control sk-hidden--visually\" id=\"sk-estimator-id-1\" type=\"checkbox\" checked><label for=\"sk-estimator-id-1\" class=\"sk-toggleable__label sk-toggleable__label-arrow\">LinearRegression</label><div class=\"sk-toggleable__content\"><pre>LinearRegression()</pre></div></div></div></div></div>"
      ],
      "text/plain": [
       "LinearRegression()"
      ]
     },
     "execution_count": 42,
     "metadata": {},
     "output_type": "execute_result"
    }
   ],
   "source": [
    "## trying the linear regression of sklearn with closed form solution approximated with the SVD as well\n",
    "from sklearn.linear_model import LinearRegression\n",
    "regressor = LinearRegression()\n",
    "regressor.fit(x_train, y_train)"
   ]
  },
  {
   "cell_type": "code",
   "execution_count": 43,
   "id": "40fd1362",
   "metadata": {},
   "outputs": [],
   "source": []
  },
  {
   "cell_type": "code",
   "execution_count": 44,
   "id": "5030980b",
   "metadata": {},
   "outputs": [
    {
     "data": {
      "text/plain": [
       "0.9227023569892417"
      ]
     },
     "execution_count": 44,
     "metadata": {},
     "output_type": "execute_result"
    }
   ],
   "source": [
    "regressor.score(x_train , y_train) "
   ]
  },
  {
   "cell_type": "code",
   "execution_count": 45,
   "id": "bbf525aa",
   "metadata": {},
   "outputs": [
    {
     "data": {
      "text/plain": [
       "-3.3453857610162344e+19"
      ]
     },
     "execution_count": 45,
     "metadata": {},
     "output_type": "execute_result"
    }
   ],
   "source": [
    "regressor.score(x_val , y_val) "
   ]
  },
  {
   "cell_type": "code",
   "execution_count": 50,
   "id": "aedddc25",
   "metadata": {},
   "outputs": [],
   "source": [
    "y_predicted_train = regressor.predict(x_train)"
   ]
  },
  {
   "cell_type": "code",
   "execution_count": 51,
   "id": "b4decd3f",
   "metadata": {},
   "outputs": [],
   "source": [
    "y_predicted_val = regressor.predict(x_val)"
   ]
  },
  {
   "cell_type": "code",
   "execution_count": 49,
   "id": "6c3f2887",
   "metadata": {},
   "outputs": [],
   "source": [
    "# real_y_hat_val = min_max_scaler_y.inverse_transform(scaled_y_hat_val)\n",
    "# real_y_val = min_max_scaler_y.inverse_transform(y_val)"
   ]
  },
  {
   "cell_type": "code",
   "execution_count": 46,
   "id": "7330fba7",
   "metadata": {},
   "outputs": [],
   "source": [
    "# pd.DataFrame(real_y_hat_val).rename(columns={0:'predectid prices'})"
   ]
  },
  {
   "cell_type": "code",
   "execution_count": 54,
   "id": "803ae1f9",
   "metadata": {},
   "outputs": [
    {
     "name": "stdout",
     "output_type": "stream",
     "text": [
      "Train_error: 0.0036464937950770535    val_error :  1.7059192889531064e+18\n"
     ]
    }
   ],
   "source": [
    "from sklearn.metrics import mean_squared_error\n",
    "train_error = (mean_squared_error(y_train , y_predicted_train))\n",
    "val_error   = (mean_squared_error(y_val , y_predicted_val))\n",
    "print('Train_error:',train_error , '   val_error : ',val_error)"
   ]
  },
  {
   "cell_type": "markdown",
   "id": "c03fc3d9",
   "metadata": {},
   "source": [
    "## Evaluating matrix of our linear regression model"
   ]
  },
  {
   "cell_type": "code",
   "execution_count": 48,
   "id": "3d1385f7",
   "metadata": {},
   "outputs": [],
   "source": [
    "# def mse(actual, predicted):\n",
    "#   return np.mean(np.square(actual-predicted))\n",
    "\n",
    "# def rmse(actual, predicted):\n",
    "#   return np.sqrt(np.mean(np.square(actual-predicted)))\n",
    "\n",
    "# def mae(actual, predicted):\n",
    "#   return np.mean(np.abs(actual-predicted))\n",
    "\n",
    "# def mape(actual, predicted, epsilon = 0.0001):\n",
    "#   return np.mean(np.abs((actual - predicted) / (actual + epsilon))) * 100\n",
    "\n",
    "# def rae(actual, predicted):\n",
    "#   numerator = np.sum(np.abs(predicted - actual))\n",
    "#   denominator = np.sum(np.abs(np.mean(actual) - actual))\n",
    "#   return numerator / denominator\n",
    "\n",
    "# def r_squared(actual, predicted):\n",
    "#   sse = np.sum(np.square(actual-predicted))\n",
    "#   sst = np.sum(np.square(actual-np.mean(actual)))\n",
    "#   return 1 - (sse/sst)\n",
    "\n",
    "# def adj_r_squared(X, actual, predicted): \n",
    "#   r_squ = r_squared(actual, predicted)\n",
    "#   first_term = 1 - r_squ\n",
    "#   sec_term = (len(actual)-1)/(len(actual) - X.shape[1] - 1)\n",
    "#   return 1 - (first_term * sec_term)"
   ]
  },
  {
   "cell_type": "code",
   "execution_count": 49,
   "id": "88a8f00c",
   "metadata": {},
   "outputs": [],
   "source": [
    "# print('The mean squared error is: ', mse(y_train, y_hat_sklearn))\n",
    "# print('the root mean squard error is: ', rmse(y_train, y_hat_sklearn))\n",
    "# print('The mean absolute error is: ', mae(y_train, y_hat_sklearn))\n",
    "# print('The mean absolute perentage error is: ', mape(y_train, y_hat_sklearn))\n",
    "# print('The relative absolute error is: ', rae(y_train, y_hat_sklearn))\n",
    "# print('The coefficient of determination is: ', r_squared(y_train, y_hat_sklearn))\n",
    "# print('The adjusted coefficient of determination is: ', adj_r_squared(X_train, y_train, y_hat_sklearn))"
   ]
  },
  {
   "cell_type": "markdown",
   "id": "efc4cb25",
   "metadata": {},
   "source": [
    "### when we face Overfitting we have two method to face it :\n",
    "- first is Subset selection via Hypothesis Testing and to make it work efficint we should remove multicollinearity by using VIF \n",
    "- 2nd is regularization using Ridge or Lasso regression "
   ]
  },
  {
   "cell_type": "markdown",
   "id": "0a53b51f",
   "metadata": {},
   "source": [
    "# Multicollinearity Handling "
   ]
  },
  {
   "cell_type": "code",
   "execution_count": 95,
   "id": "81367a3d",
   "metadata": {},
   "outputs": [
    {
     "name": "stdout",
     "output_type": "stream",
     "text": [
      "(1059, 126) (353, 126)\n"
     ]
    }
   ],
   "source": [
    "print(x_train.shape , x_val.shape)"
   ]
  },
  {
   "cell_type": "code",
   "execution_count": 103,
   "id": "e39602f8",
   "metadata": {
    "collapsed": true
   },
   "outputs": [
    {
     "name": "stderr",
     "output_type": "stream",
     "text": [
      "C:\\Users\\ahmed\\anaconda3\\Lib\\site-packages\\statsmodels\\stats\\outliers_influence.py:198: RuntimeWarning: divide by zero encountered in scalar divide\n",
      "  vif = 1. / (1. - r_squared_i)\n",
      "C:\\Users\\ahmed\\anaconda3\\Lib\\site-packages\\statsmodels\\regression\\linear_model.py:1781: RuntimeWarning: invalid value encountered in scalar divide\n",
      "  return 1 - self.ssr/self.centered_tss\n",
      "C:\\Users\\ahmed\\anaconda3\\Lib\\site-packages\\statsmodels\\stats\\outliers_influence.py:198: RuntimeWarning: divide by zero encountered in scalar divide\n",
      "  vif = 1. / (1. - r_squared_i)\n",
      "C:\\Users\\ahmed\\anaconda3\\Lib\\site-packages\\statsmodels\\regression\\linear_model.py:1781: RuntimeWarning: invalid value encountered in scalar divide\n",
      "  return 1 - self.ssr/self.centered_tss\n",
      "C:\\Users\\ahmed\\anaconda3\\Lib\\site-packages\\statsmodels\\stats\\outliers_influence.py:198: RuntimeWarning: divide by zero encountered in scalar divide\n",
      "  vif = 1. / (1. - r_squared_i)\n",
      "C:\\Users\\ahmed\\anaconda3\\Lib\\site-packages\\statsmodels\\regression\\linear_model.py:1781: RuntimeWarning: invalid value encountered in scalar divide\n",
      "  return 1 - self.ssr/self.centered_tss\n",
      "C:\\Users\\ahmed\\anaconda3\\Lib\\site-packages\\statsmodels\\stats\\outliers_influence.py:198: RuntimeWarning: divide by zero encountered in scalar divide\n",
      "  vif = 1. / (1. - r_squared_i)\n",
      "C:\\Users\\ahmed\\anaconda3\\Lib\\site-packages\\statsmodels\\regression\\linear_model.py:1781: RuntimeWarning: invalid value encountered in scalar divide\n",
      "  return 1 - self.ssr/self.centered_tss\n",
      "C:\\Users\\ahmed\\anaconda3\\Lib\\site-packages\\statsmodels\\stats\\outliers_influence.py:198: RuntimeWarning: divide by zero encountered in scalar divide\n",
      "  vif = 1. / (1. - r_squared_i)\n",
      "C:\\Users\\ahmed\\anaconda3\\Lib\\site-packages\\statsmodels\\regression\\linear_model.py:1781: RuntimeWarning: invalid value encountered in scalar divide\n",
      "  return 1 - self.ssr/self.centered_tss\n",
      "C:\\Users\\ahmed\\anaconda3\\Lib\\site-packages\\statsmodels\\stats\\outliers_influence.py:198: RuntimeWarning: divide by zero encountered in scalar divide\n",
      "  vif = 1. / (1. - r_squared_i)\n",
      "C:\\Users\\ahmed\\anaconda3\\Lib\\site-packages\\statsmodels\\regression\\linear_model.py:1781: RuntimeWarning: invalid value encountered in scalar divide\n",
      "  return 1 - self.ssr/self.centered_tss\n",
      "C:\\Users\\ahmed\\anaconda3\\Lib\\site-packages\\statsmodels\\stats\\outliers_influence.py:198: RuntimeWarning: divide by zero encountered in scalar divide\n",
      "  vif = 1. / (1. - r_squared_i)\n",
      "C:\\Users\\ahmed\\anaconda3\\Lib\\site-packages\\statsmodels\\regression\\linear_model.py:1781: RuntimeWarning: invalid value encountered in scalar divide\n",
      "  return 1 - self.ssr/self.centered_tss\n",
      "C:\\Users\\ahmed\\anaconda3\\Lib\\site-packages\\statsmodels\\stats\\outliers_influence.py:198: RuntimeWarning: divide by zero encountered in scalar divide\n",
      "  vif = 1. / (1. - r_squared_i)\n",
      "C:\\Users\\ahmed\\anaconda3\\Lib\\site-packages\\statsmodels\\regression\\linear_model.py:1781: RuntimeWarning: invalid value encountered in scalar divide\n",
      "  return 1 - self.ssr/self.centered_tss\n",
      "C:\\Users\\ahmed\\anaconda3\\Lib\\site-packages\\statsmodels\\regression\\linear_model.py:1781: RuntimeWarning: invalid value encountered in scalar divide\n",
      "  return 1 - self.ssr/self.centered_tss\n",
      "C:\\Users\\ahmed\\anaconda3\\Lib\\site-packages\\statsmodels\\regression\\linear_model.py:1783: RuntimeWarning: invalid value encountered in scalar divide\n",
      "  return 1 - self.ssr/self.uncentered_tss\n",
      "C:\\Users\\ahmed\\anaconda3\\Lib\\site-packages\\statsmodels\\regression\\linear_model.py:1783: RuntimeWarning: invalid value encountered in scalar divide\n",
      "  return 1 - self.ssr/self.uncentered_tss\n",
      "C:\\Users\\ahmed\\anaconda3\\Lib\\site-packages\\statsmodels\\regression\\linear_model.py:1783: RuntimeWarning: invalid value encountered in scalar divide\n",
      "  return 1 - self.ssr/self.uncentered_tss\n",
      "C:\\Users\\ahmed\\anaconda3\\Lib\\site-packages\\statsmodels\\regression\\linear_model.py:1783: RuntimeWarning: invalid value encountered in scalar divide\n",
      "  return 1 - self.ssr/self.uncentered_tss\n",
      "C:\\Users\\ahmed\\anaconda3\\Lib\\site-packages\\statsmodels\\regression\\linear_model.py:1783: RuntimeWarning: invalid value encountered in scalar divide\n",
      "  return 1 - self.ssr/self.uncentered_tss\n",
      "C:\\Users\\ahmed\\anaconda3\\Lib\\site-packages\\statsmodels\\regression\\linear_model.py:1783: RuntimeWarning: invalid value encountered in scalar divide\n",
      "  return 1 - self.ssr/self.uncentered_tss\n",
      "C:\\Users\\ahmed\\anaconda3\\Lib\\site-packages\\statsmodels\\regression\\linear_model.py:1783: RuntimeWarning: invalid value encountered in scalar divide\n",
      "  return 1 - self.ssr/self.uncentered_tss\n",
      "C:\\Users\\ahmed\\anaconda3\\Lib\\site-packages\\statsmodels\\regression\\linear_model.py:1783: RuntimeWarning: invalid value encountered in scalar divide\n",
      "  return 1 - self.ssr/self.uncentered_tss\n",
      "C:\\Users\\ahmed\\anaconda3\\Lib\\site-packages\\statsmodels\\regression\\linear_model.py:1783: RuntimeWarning: invalid value encountered in scalar divide\n",
      "  return 1 - self.ssr/self.uncentered_tss\n",
      "C:\\Users\\ahmed\\anaconda3\\Lib\\site-packages\\statsmodels\\regression\\linear_model.py:1783: RuntimeWarning: invalid value encountered in scalar divide\n",
      "  return 1 - self.ssr/self.uncentered_tss\n",
      "C:\\Users\\ahmed\\anaconda3\\Lib\\site-packages\\statsmodels\\regression\\linear_model.py:1783: RuntimeWarning: invalid value encountered in scalar divide\n",
      "  return 1 - self.ssr/self.uncentered_tss\n",
      "C:\\Users\\ahmed\\anaconda3\\Lib\\site-packages\\statsmodels\\regression\\linear_model.py:1783: RuntimeWarning: invalid value encountered in scalar divide\n",
      "  return 1 - self.ssr/self.uncentered_tss\n"
     ]
    }
   ],
   "source": [
    "from statsmodels.stats.outliers_influence import variance_inflation_factor\n",
    "\n",
    "feats_high_vif_to_be_dropped = []\n",
    "cleaned_df_from_multi_coll = x_train.copy()\n",
    "significant_feats_df_val = x_val.copy()\n",
    "\n",
    "while True:\n",
    "    vif = [variance_inflation_factor(cleaned_df_from_multi_coll.values, i) for i in range(cleaned_df_from_multi_coll.shape[1])]\n",
    "    max_vif = max(vif)\n",
    "    \n",
    "    if max_vif > 20:\n",
    "        max_vif_index = vif.index(max_vif)\n",
    "        feat_to_drop = cleaned_df_from_multi_coll.columns[max_vif_index]\n",
    "        \n",
    "        feats_high_vif_to_be_dropped.append(feat_to_drop)\n",
    "        cleaned_df_from_multi_coll.drop(columns=[feat_to_drop], inplace=True)\n",
    "        significant_feats_df_val.drop(columns=[feat_to_drop], inplace=True)\n",
    "    else:\n",
    "        break\n"
   ]
  },
  {
   "cell_type": "code",
   "execution_count": 96,
   "id": "528129e2",
   "metadata": {
    "collapsed": true
   },
   "outputs": [
    {
     "name": "stderr",
     "output_type": "stream",
     "text": [
      "C:\\Users\\ahmed\\anaconda3\\Lib\\site-packages\\statsmodels\\stats\\outliers_influence.py:198: RuntimeWarning: divide by zero encountered in scalar divide\n",
      "  vif = 1. / (1. - r_squared_i)\n",
      "C:\\Users\\ahmed\\anaconda3\\Lib\\site-packages\\statsmodels\\stats\\outliers_influence.py:198: RuntimeWarning: divide by zero encountered in scalar divide\n",
      "  vif = 1. / (1. - r_squared_i)\n",
      "C:\\Users\\ahmed\\anaconda3\\Lib\\site-packages\\statsmodels\\stats\\outliers_influence.py:198: RuntimeWarning: divide by zero encountered in scalar divide\n",
      "  vif = 1. / (1. - r_squared_i)\n",
      "C:\\Users\\ahmed\\anaconda3\\Lib\\site-packages\\statsmodels\\stats\\outliers_influence.py:198: RuntimeWarning: divide by zero encountered in scalar divide\n",
      "  vif = 1. / (1. - r_squared_i)\n",
      "C:\\Users\\ahmed\\anaconda3\\Lib\\site-packages\\statsmodels\\stats\\outliers_influence.py:198: RuntimeWarning: divide by zero encountered in scalar divide\n",
      "  vif = 1. / (1. - r_squared_i)\n",
      "C:\\Users\\ahmed\\anaconda3\\Lib\\site-packages\\statsmodels\\stats\\outliers_influence.py:198: RuntimeWarning: divide by zero encountered in scalar divide\n",
      "  vif = 1. / (1. - r_squared_i)\n",
      "C:\\Users\\ahmed\\anaconda3\\Lib\\site-packages\\statsmodels\\stats\\outliers_influence.py:198: RuntimeWarning: divide by zero encountered in scalar divide\n",
      "  vif = 1. / (1. - r_squared_i)\n",
      "C:\\Users\\ahmed\\anaconda3\\Lib\\site-packages\\statsmodels\\stats\\outliers_influence.py:198: RuntimeWarning: divide by zero encountered in scalar divide\n",
      "  vif = 1. / (1. - r_squared_i)\n",
      "C:\\Users\\ahmed\\anaconda3\\Lib\\site-packages\\statsmodels\\regression\\linear_model.py:1781: RuntimeWarning: invalid value encountered in scalar divide\n",
      "  return 1 - self.ssr/self.centered_tss\n",
      "C:\\Users\\ahmed\\anaconda3\\Lib\\site-packages\\statsmodels\\regression\\linear_model.py:1783: RuntimeWarning: invalid value encountered in scalar divide\n",
      "  return 1 - self.ssr/self.uncentered_tss\n"
     ]
    }
   ],
   "source": [
    "# from statsmodels.stats.outliers_influence import variance_inflation_factor\n",
    "# feats_high_vif_to_be_dropped = []\n",
    "# cleaned_df_from_multi_coll = x_train.copy()\n",
    "# significant_feats_df_val = x_val.copy()\n",
    "# num_cols_removed = 0\n",
    "\n",
    "# for origin_df_feat_index in range(len(x_train.columns)):\n",
    "#   num_cols_removed = x_train.shape[1] - cleaned_df_from_multi_coll.shape[1]\n",
    "\n",
    "#   cleaned_df_feat_index = origin_df_feat_index - num_cols_removed\n",
    "    \n",
    "#   VIF_FEAT = variance_inflation_factor(cleaned_df_from_multi_coll.values, cleaned_df_feat_index)\n",
    "#   if VIF_FEAT > 20:\n",
    "        \n",
    "#     feats_high_vif_to_be_dropped.append(cleaned_df_from_multi_coll.columns[cleaned_df_feat_index])\n",
    "#     cleaned_df_from_multi_coll = cleaned_df_from_multi_coll.drop(columns = [cleaned_df_from_multi_coll.columns[cleaned_df_feat_index]])\n",
    "#     significant_feats_df_val.drop(columns = [cleaned_df_from_multi_coll.columns[cleaned_df_feat_index]] , inplace=True)"
   ]
  },
  {
   "cell_type": "code",
   "execution_count": 104,
   "id": "c7bca767",
   "metadata": {},
   "outputs": [
    {
     "name": "stdout",
     "output_type": "stream",
     "text": [
      "(1059, 103) (353, 103)\n"
     ]
    }
   ],
   "source": [
    "print(cleaned_df_from_multi_coll.shape,significant_feats_df_val.shape)"
   ]
  },
  {
   "cell_type": "code",
   "execution_count": 105,
   "id": "83e74e22",
   "metadata": {
    "scrolled": true
   },
   "outputs": [
    {
     "data": {
      "text/plain": [
       "20"
      ]
     },
     "execution_count": 105,
     "metadata": {},
     "output_type": "execute_result"
    }
   ],
   "source": [
    "len(feats_high_vif_to_be_dropped)"
   ]
  },
  {
   "cell_type": "markdown",
   "id": "4b2a04ef",
   "metadata": {},
   "source": [
    "#### Having cleaned our training data from multi-collinearity, we can measure the significance level of each feature and perform subset selection using the backward-stepwise method"
   ]
  },
  {
   "cell_type": "code",
   "execution_count": 90,
   "id": "6e709a46",
   "metadata": {
    "scrolled": false
   },
   "outputs": [
    {
     "data": {
      "text/html": [
       "<div>\n",
       "<style scoped>\n",
       "    .dataframe tbody tr th:only-of-type {\n",
       "        vertical-align: middle;\n",
       "    }\n",
       "\n",
       "    .dataframe tbody tr th {\n",
       "        vertical-align: top;\n",
       "    }\n",
       "\n",
       "    .dataframe thead th {\n",
       "        text-align: right;\n",
       "    }\n",
       "</style>\n",
       "<table border=\"1\" class=\"dataframe\">\n",
       "  <thead>\n",
       "    <tr style=\"text-align: right;\">\n",
       "      <th></th>\n",
       "      <th>Coef.</th>\n",
       "      <th>Std.Err.</th>\n",
       "      <th>t</th>\n",
       "      <th>P&gt;|t|</th>\n",
       "      <th>[0.025</th>\n",
       "      <th>0.975]</th>\n",
       "    </tr>\n",
       "  </thead>\n",
       "  <tbody>\n",
       "    <tr>\n",
       "      <th>MoSold</th>\n",
       "      <td>-0.000063</td>\n",
       "      <td>0.002342</td>\n",
       "      <td>-0.027103</td>\n",
       "      <td>0.978384</td>\n",
       "      <td>-0.004659</td>\n",
       "      <td>0.004532</td>\n",
       "    </tr>\n",
       "    <tr>\n",
       "      <th>BsmtFullBath</th>\n",
       "      <td>0.069515</td>\n",
       "      <td>0.015811</td>\n",
       "      <td>4.396701</td>\n",
       "      <td>0.000012</td>\n",
       "      <td>0.038487</td>\n",
       "      <td>0.100542</td>\n",
       "    </tr>\n",
       "    <tr>\n",
       "      <th>Veenker</th>\n",
       "      <td>0.103519</td>\n",
       "      <td>0.034343</td>\n",
       "      <td>3.014267</td>\n",
       "      <td>0.002644</td>\n",
       "      <td>0.036123</td>\n",
       "      <td>0.170916</td>\n",
       "    </tr>\n",
       "    <tr>\n",
       "      <th>Plywood</th>\n",
       "      <td>-0.021031</td>\n",
       "      <td>0.018612</td>\n",
       "      <td>-1.129978</td>\n",
       "      <td>0.258768</td>\n",
       "      <td>-0.057555</td>\n",
       "      <td>0.015494</td>\n",
       "    </tr>\n",
       "    <tr>\n",
       "      <th>Plywood</th>\n",
       "      <td>-0.006718</td>\n",
       "      <td>0.017526</td>\n",
       "      <td>-0.383312</td>\n",
       "      <td>0.701573</td>\n",
       "      <td>-0.041112</td>\n",
       "      <td>0.027676</td>\n",
       "    </tr>\n",
       "    <tr>\n",
       "      <th>...</th>\n",
       "      <td>...</td>\n",
       "      <td>...</td>\n",
       "      <td>...</td>\n",
       "      <td>...</td>\n",
       "      <td>...</td>\n",
       "      <td>...</td>\n",
       "    </tr>\n",
       "    <tr>\n",
       "      <th>AsbShng</th>\n",
       "      <td>-0.022384</td>\n",
       "      <td>0.043592</td>\n",
       "      <td>-0.513490</td>\n",
       "      <td>0.607727</td>\n",
       "      <td>-0.107930</td>\n",
       "      <td>0.063162</td>\n",
       "    </tr>\n",
       "    <tr>\n",
       "      <th>AsbShng</th>\n",
       "      <td>0.015046</td>\n",
       "      <td>0.043829</td>\n",
       "      <td>0.343286</td>\n",
       "      <td>0.731459</td>\n",
       "      <td>-0.070967</td>\n",
       "      <td>0.101059</td>\n",
       "    </tr>\n",
       "    <tr>\n",
       "      <th>CarPort</th>\n",
       "      <td>-0.035667</td>\n",
       "      <td>0.037193</td>\n",
       "      <td>-0.958965</td>\n",
       "      <td>0.337818</td>\n",
       "      <td>-0.108656</td>\n",
       "      <td>0.037322</td>\n",
       "    </tr>\n",
       "    <tr>\n",
       "      <th>YearRemodAdd</th>\n",
       "      <td>0.016572</td>\n",
       "      <td>0.011088</td>\n",
       "      <td>1.494685</td>\n",
       "      <td>0.135326</td>\n",
       "      <td>-0.005186</td>\n",
       "      <td>0.038331</td>\n",
       "    </tr>\n",
       "    <tr>\n",
       "      <th>GarageFinish</th>\n",
       "      <td>-0.006292</td>\n",
       "      <td>0.004251</td>\n",
       "      <td>-1.480090</td>\n",
       "      <td>0.139178</td>\n",
       "      <td>-0.014635</td>\n",
       "      <td>0.002051</td>\n",
       "    </tr>\n",
       "  </tbody>\n",
       "</table>\n",
       "<p>104 rows × 6 columns</p>\n",
       "</div>"
      ],
      "text/plain": [
       "                 Coef.  Std.Err.         t     P>|t|    [0.025    0.975]\n",
       "MoSold       -0.000063  0.002342 -0.027103  0.978384 -0.004659  0.004532\n",
       "BsmtFullBath  0.069515  0.015811  4.396701  0.000012  0.038487  0.100542\n",
       "Veenker       0.103519  0.034343  3.014267  0.002644  0.036123  0.170916\n",
       "Plywood      -0.021031  0.018612 -1.129978  0.258768 -0.057555  0.015494\n",
       "Plywood      -0.006718  0.017526 -0.383312  0.701573 -0.041112  0.027676\n",
       "...                ...       ...       ...       ...       ...       ...\n",
       "AsbShng      -0.022384  0.043592 -0.513490  0.607727 -0.107930  0.063162\n",
       "AsbShng       0.015046  0.043829  0.343286  0.731459 -0.070967  0.101059\n",
       "CarPort      -0.035667  0.037193 -0.958965  0.337818 -0.108656  0.037322\n",
       "YearRemodAdd  0.016572  0.011088  1.494685  0.135326 -0.005186  0.038331\n",
       "GarageFinish -0.006292  0.004251 -1.480090  0.139178 -0.014635  0.002051\n",
       "\n",
       "[104 rows x 6 columns]"
      ]
     },
     "execution_count": 90,
     "metadata": {},
     "output_type": "execute_result"
    }
   ],
   "source": [
    "from statsmodels.api import OLS\n",
    "LRresult = OLS(y_train.values,cleaned_df_from_multi_coll).fit().summary2().tables[1]\n",
    "LRresult"
   ]
  },
  {
   "cell_type": "code",
   "execution_count": 106,
   "id": "50428fbc",
   "metadata": {},
   "outputs": [],
   "source": [
    "significant_feats_df = cleaned_df_from_multi_coll\n",
    "LRresult = (OLS(y_train.values,significant_feats_df).fit().summary2().tables[1]).reset_index().rename(columns = {'index' : 'feature_name'})\n",
    "insignificant_feats_ls = []\n",
    "\n",
    "while LRresult['P>|t|'].max() > 0.05:\n",
    "  insignificant_feat = LRresult[LRresult['P>|t|'] == LRresult['P>|t|'].max()][['feature_name']].values[0, 0]\n",
    "  insignificant_feats_ls.append(insignificant_feat)\n",
    "  significant_feats_df = significant_feats_df.drop(columns = [insignificant_feat])\n",
    "  significant_feats_df_val.drop(columns = [insignificant_feat] , inplace=True)\n",
    "  LRresult = (OLS(y_train.values,significant_feats_df).fit().summary2().tables[1]).reset_index().rename(columns = {'index' : 'feature_name'})"
   ]
  },
  {
   "cell_type": "code",
   "execution_count": 107,
   "id": "3f767889",
   "metadata": {},
   "outputs": [
    {
     "data": {
      "text/plain": [
       "41"
      ]
     },
     "execution_count": 107,
     "metadata": {},
     "output_type": "execute_result"
    }
   ],
   "source": [
    "len(insignificant_feats_ls)"
   ]
  },
  {
   "cell_type": "code",
   "execution_count": 71,
   "id": "c8c46124",
   "metadata": {
    "collapsed": true
   },
   "outputs": [
    {
     "data": {
      "text/html": [
       "<div>\n",
       "<style scoped>\n",
       "    .dataframe tbody tr th:only-of-type {\n",
       "        vertical-align: middle;\n",
       "    }\n",
       "\n",
       "    .dataframe tbody tr th {\n",
       "        vertical-align: top;\n",
       "    }\n",
       "\n",
       "    .dataframe thead th {\n",
       "        text-align: right;\n",
       "    }\n",
       "</style>\n",
       "<table border=\"1\" class=\"dataframe\">\n",
       "  <thead>\n",
       "    <tr style=\"text-align: right;\">\n",
       "      <th></th>\n",
       "      <th>feature_name</th>\n",
       "      <th>Coef.</th>\n",
       "      <th>Std.Err.</th>\n",
       "      <th>t</th>\n",
       "      <th>P&gt;|t|</th>\n",
       "      <th>[0.025</th>\n",
       "      <th>0.975]</th>\n",
       "    </tr>\n",
       "  </thead>\n",
       "  <tbody>\n",
       "    <tr>\n",
       "      <th>0</th>\n",
       "      <td>BsmtFullBath</td>\n",
       "      <td>0.072215</td>\n",
       "      <td>0.014818</td>\n",
       "      <td>4.873501</td>\n",
       "      <td>1.271509e-06</td>\n",
       "      <td>0.043138</td>\n",
       "      <td>0.101292</td>\n",
       "    </tr>\n",
       "    <tr>\n",
       "      <th>1</th>\n",
       "      <td>Veenker</td>\n",
       "      <td>0.071447</td>\n",
       "      <td>0.028365</td>\n",
       "      <td>2.518901</td>\n",
       "      <td>1.192492e-02</td>\n",
       "      <td>0.015788</td>\n",
       "      <td>0.127107</td>\n",
       "    </tr>\n",
       "    <tr>\n",
       "      <th>2</th>\n",
       "      <td>SawyerW</td>\n",
       "      <td>0.025959</td>\n",
       "      <td>0.012201</td>\n",
       "      <td>2.127564</td>\n",
       "      <td>3.361375e-02</td>\n",
       "      <td>0.002016</td>\n",
       "      <td>0.049902</td>\n",
       "    </tr>\n",
       "    <tr>\n",
       "      <th>3</th>\n",
       "      <td>LotArea</td>\n",
       "      <td>0.018677</td>\n",
       "      <td>0.003228</td>\n",
       "      <td>5.786412</td>\n",
       "      <td>9.573545e-09</td>\n",
       "      <td>0.012343</td>\n",
       "      <td>0.025011</td>\n",
       "    </tr>\n",
       "    <tr>\n",
       "      <th>4</th>\n",
       "      <td>GarageCars</td>\n",
       "      <td>0.135430</td>\n",
       "      <td>0.016069</td>\n",
       "      <td>8.427925</td>\n",
       "      <td>1.193180e-16</td>\n",
       "      <td>0.103897</td>\n",
       "      <td>0.166963</td>\n",
       "    </tr>\n",
       "    <tr>\n",
       "      <th>5</th>\n",
       "      <td>1Story</td>\n",
       "      <td>0.026647</td>\n",
       "      <td>0.011272</td>\n",
       "      <td>2.363961</td>\n",
       "      <td>1.826824e-02</td>\n",
       "      <td>0.004528</td>\n",
       "      <td>0.048767</td>\n",
       "    </tr>\n",
       "    <tr>\n",
       "      <th>6</th>\n",
       "      <td>OverallCond</td>\n",
       "      <td>0.129909</td>\n",
       "      <td>0.011908</td>\n",
       "      <td>10.909523</td>\n",
       "      <td>2.795682e-26</td>\n",
       "      <td>0.106543</td>\n",
       "      <td>0.153276</td>\n",
       "    </tr>\n",
       "    <tr>\n",
       "      <th>7</th>\n",
       "      <td>NridgHt</td>\n",
       "      <td>0.150185</td>\n",
       "      <td>0.013393</td>\n",
       "      <td>11.213471</td>\n",
       "      <td>1.358251e-27</td>\n",
       "      <td>0.123904</td>\n",
       "      <td>0.176467</td>\n",
       "    </tr>\n",
       "    <tr>\n",
       "      <th>8</th>\n",
       "      <td>CemntBd</td>\n",
       "      <td>-0.124531</td>\n",
       "      <td>0.044002</td>\n",
       "      <td>-2.830092</td>\n",
       "      <td>4.745243e-03</td>\n",
       "      <td>-0.210877</td>\n",
       "      <td>-0.038185</td>\n",
       "    </tr>\n",
       "    <tr>\n",
       "      <th>9</th>\n",
       "      <td>Somerst</td>\n",
       "      <td>0.105048</td>\n",
       "      <td>0.012046</td>\n",
       "      <td>8.720873</td>\n",
       "      <td>1.111892e-17</td>\n",
       "      <td>0.081411</td>\n",
       "      <td>0.128685</td>\n",
       "    </tr>\n",
       "    <tr>\n",
       "      <th>10</th>\n",
       "      <td>ClearCr</td>\n",
       "      <td>0.033880</td>\n",
       "      <td>0.016592</td>\n",
       "      <td>2.041910</td>\n",
       "      <td>4.141851e-02</td>\n",
       "      <td>0.001321</td>\n",
       "      <td>0.066439</td>\n",
       "    </tr>\n",
       "    <tr>\n",
       "      <th>11</th>\n",
       "      <td>Timber</td>\n",
       "      <td>0.055186</td>\n",
       "      <td>0.015161</td>\n",
       "      <td>3.639933</td>\n",
       "      <td>2.864606e-04</td>\n",
       "      <td>0.025435</td>\n",
       "      <td>0.084936</td>\n",
       "    </tr>\n",
       "    <tr>\n",
       "      <th>12</th>\n",
       "      <td>YearBuilt</td>\n",
       "      <td>0.173734</td>\n",
       "      <td>0.018513</td>\n",
       "      <td>9.384485</td>\n",
       "      <td>4.012785e-20</td>\n",
       "      <td>0.137406</td>\n",
       "      <td>0.210062</td>\n",
       "    </tr>\n",
       "    <tr>\n",
       "      <th>13</th>\n",
       "      <td>Crawfor</td>\n",
       "      <td>0.103631</td>\n",
       "      <td>0.013057</td>\n",
       "      <td>7.936744</td>\n",
       "      <td>5.467475e-15</td>\n",
       "      <td>0.078009</td>\n",
       "      <td>0.129253</td>\n",
       "    </tr>\n",
       "    <tr>\n",
       "      <th>14</th>\n",
       "      <td>NoRidge</td>\n",
       "      <td>0.112822</td>\n",
       "      <td>0.014678</td>\n",
       "      <td>7.686624</td>\n",
       "      <td>3.555499e-14</td>\n",
       "      <td>0.084020</td>\n",
       "      <td>0.141624</td>\n",
       "    </tr>\n",
       "    <tr>\n",
       "      <th>15</th>\n",
       "      <td>Blmngtn</td>\n",
       "      <td>0.073562</td>\n",
       "      <td>0.024114</td>\n",
       "      <td>3.050654</td>\n",
       "      <td>2.342735e-03</td>\n",
       "      <td>0.026244</td>\n",
       "      <td>0.120880</td>\n",
       "    </tr>\n",
       "    <tr>\n",
       "      <th>16</th>\n",
       "      <td>1stFlrSF</td>\n",
       "      <td>0.061684</td>\n",
       "      <td>0.004671</td>\n",
       "      <td>13.204452</td>\n",
       "      <td>7.473764e-37</td>\n",
       "      <td>0.052517</td>\n",
       "      <td>0.070851</td>\n",
       "    </tr>\n",
       "    <tr>\n",
       "      <th>17</th>\n",
       "      <td>StoneBr</td>\n",
       "      <td>0.154947</td>\n",
       "      <td>0.018368</td>\n",
       "      <td>8.435455</td>\n",
       "      <td>1.123532e-16</td>\n",
       "      <td>0.118902</td>\n",
       "      <td>0.190991</td>\n",
       "    </tr>\n",
       "    <tr>\n",
       "      <th>18</th>\n",
       "      <td>SLvl</td>\n",
       "      <td>0.040505</td>\n",
       "      <td>0.013690</td>\n",
       "      <td>2.958777</td>\n",
       "      <td>3.160301e-03</td>\n",
       "      <td>0.013642</td>\n",
       "      <td>0.067369</td>\n",
       "    </tr>\n",
       "    <tr>\n",
       "      <th>19</th>\n",
       "      <td>WoodDeckSF</td>\n",
       "      <td>0.013372</td>\n",
       "      <td>0.005812</td>\n",
       "      <td>2.300615</td>\n",
       "      <td>2.161542e-02</td>\n",
       "      <td>0.001966</td>\n",
       "      <td>0.024778</td>\n",
       "    </tr>\n",
       "    <tr>\n",
       "      <th>20</th>\n",
       "      <td>Wood</td>\n",
       "      <td>-0.120899</td>\n",
       "      <td>0.054075</td>\n",
       "      <td>-2.235758</td>\n",
       "      <td>2.558440e-02</td>\n",
       "      <td>-0.227010</td>\n",
       "      <td>-0.014787</td>\n",
       "    </tr>\n",
       "    <tr>\n",
       "      <th>21</th>\n",
       "      <td>Detchd</td>\n",
       "      <td>0.039610</td>\n",
       "      <td>0.011001</td>\n",
       "      <td>3.600575</td>\n",
       "      <td>3.328745e-04</td>\n",
       "      <td>0.018023</td>\n",
       "      <td>0.061197</td>\n",
       "    </tr>\n",
       "    <tr>\n",
       "      <th>22</th>\n",
       "      <td>BsmtFinSF1</td>\n",
       "      <td>0.113863</td>\n",
       "      <td>0.020508</td>\n",
       "      <td>5.552011</td>\n",
       "      <td>3.605014e-08</td>\n",
       "      <td>0.073619</td>\n",
       "      <td>0.154107</td>\n",
       "    </tr>\n",
       "    <tr>\n",
       "      <th>23</th>\n",
       "      <td>TA</td>\n",
       "      <td>-0.018400</td>\n",
       "      <td>0.006678</td>\n",
       "      <td>-2.755412</td>\n",
       "      <td>5.966756e-03</td>\n",
       "      <td>-0.031505</td>\n",
       "      <td>-0.005296</td>\n",
       "    </tr>\n",
       "    <tr>\n",
       "      <th>24</th>\n",
       "      <td>OpenPorchSF</td>\n",
       "      <td>0.018018</td>\n",
       "      <td>0.006689</td>\n",
       "      <td>2.693610</td>\n",
       "      <td>7.184839e-03</td>\n",
       "      <td>0.004892</td>\n",
       "      <td>0.031145</td>\n",
       "    </tr>\n",
       "    <tr>\n",
       "      <th>25</th>\n",
       "      <td>Attchd</td>\n",
       "      <td>0.046346</td>\n",
       "      <td>0.009357</td>\n",
       "      <td>4.953364</td>\n",
       "      <td>8.539962e-07</td>\n",
       "      <td>0.027986</td>\n",
       "      <td>0.064707</td>\n",
       "    </tr>\n",
       "    <tr>\n",
       "      <th>26</th>\n",
       "      <td>Wd Sdng</td>\n",
       "      <td>-0.026699</td>\n",
       "      <td>0.013423</td>\n",
       "      <td>-1.989032</td>\n",
       "      <td>4.696583e-02</td>\n",
       "      <td>-0.053040</td>\n",
       "      <td>-0.000359</td>\n",
       "    </tr>\n",
       "    <tr>\n",
       "      <th>27</th>\n",
       "      <td>Wd Sdng</td>\n",
       "      <td>0.037601</td>\n",
       "      <td>0.013612</td>\n",
       "      <td>2.762309</td>\n",
       "      <td>5.843082e-03</td>\n",
       "      <td>0.010890</td>\n",
       "      <td>0.064312</td>\n",
       "    </tr>\n",
       "    <tr>\n",
       "      <th>28</th>\n",
       "      <td>BrkSide</td>\n",
       "      <td>0.042141</td>\n",
       "      <td>0.013212</td>\n",
       "      <td>3.189518</td>\n",
       "      <td>1.468760e-03</td>\n",
       "      <td>0.016214</td>\n",
       "      <td>0.068067</td>\n",
       "    </tr>\n",
       "    <tr>\n",
       "      <th>29</th>\n",
       "      <td>Gable</td>\n",
       "      <td>-0.014637</td>\n",
       "      <td>0.005959</td>\n",
       "      <td>-2.456316</td>\n",
       "      <td>1.420355e-02</td>\n",
       "      <td>-0.026330</td>\n",
       "      <td>-0.002944</td>\n",
       "    </tr>\n",
       "    <tr>\n",
       "      <th>30</th>\n",
       "      <td>Fireplaces</td>\n",
       "      <td>0.081321</td>\n",
       "      <td>0.012299</td>\n",
       "      <td>6.611991</td>\n",
       "      <td>6.119001e-11</td>\n",
       "      <td>0.057186</td>\n",
       "      <td>0.105455</td>\n",
       "    </tr>\n",
       "    <tr>\n",
       "      <th>31</th>\n",
       "      <td>PConc</td>\n",
       "      <td>0.027035</td>\n",
       "      <td>0.007344</td>\n",
       "      <td>3.681322</td>\n",
       "      <td>2.442459e-04</td>\n",
       "      <td>0.012624</td>\n",
       "      <td>0.041446</td>\n",
       "    </tr>\n",
       "    <tr>\n",
       "      <th>32</th>\n",
       "      <td>1.5Unf</td>\n",
       "      <td>0.061719</td>\n",
       "      <td>0.024917</td>\n",
       "      <td>2.476993</td>\n",
       "      <td>1.341144e-02</td>\n",
       "      <td>0.012824</td>\n",
       "      <td>0.110613</td>\n",
       "    </tr>\n",
       "    <tr>\n",
       "      <th>33</th>\n",
       "      <td>Basment</td>\n",
       "      <td>0.045491</td>\n",
       "      <td>0.021039</td>\n",
       "      <td>2.162200</td>\n",
       "      <td>3.083586e-02</td>\n",
       "      <td>0.004206</td>\n",
       "      <td>0.086776</td>\n",
       "    </tr>\n",
       "    <tr>\n",
       "      <th>34</th>\n",
       "      <td>BsmtQual</td>\n",
       "      <td>-0.014302</td>\n",
       "      <td>0.003546</td>\n",
       "      <td>-4.033512</td>\n",
       "      <td>5.906900e-05</td>\n",
       "      <td>-0.021259</td>\n",
       "      <td>-0.007344</td>\n",
       "    </tr>\n",
       "    <tr>\n",
       "      <th>35</th>\n",
       "      <td>1.5Fin</td>\n",
       "      <td>0.023557</td>\n",
       "      <td>0.009708</td>\n",
       "      <td>2.426722</td>\n",
       "      <td>1.540916e-02</td>\n",
       "      <td>0.004508</td>\n",
       "      <td>0.042607</td>\n",
       "    </tr>\n",
       "    <tr>\n",
       "      <th>36</th>\n",
       "      <td>MSSubClass</td>\n",
       "      <td>-0.037113</td>\n",
       "      <td>0.010550</td>\n",
       "      <td>-3.517700</td>\n",
       "      <td>4.545767e-04</td>\n",
       "      <td>-0.057815</td>\n",
       "      <td>-0.016410</td>\n",
       "    </tr>\n",
       "    <tr>\n",
       "      <th>37</th>\n",
       "      <td>CmentBd</td>\n",
       "      <td>0.141555</td>\n",
       "      <td>0.044524</td>\n",
       "      <td>3.179316</td>\n",
       "      <td>1.520919e-03</td>\n",
       "      <td>0.054186</td>\n",
       "      <td>0.228925</td>\n",
       "    </tr>\n",
       "    <tr>\n",
       "      <th>38</th>\n",
       "      <td>BrDale</td>\n",
       "      <td>0.052263</td>\n",
       "      <td>0.023062</td>\n",
       "      <td>2.266202</td>\n",
       "      <td>2.364887e-02</td>\n",
       "      <td>0.007008</td>\n",
       "      <td>0.097517</td>\n",
       "    </tr>\n",
       "    <tr>\n",
       "      <th>39</th>\n",
       "      <td>BsmtUnfSF</td>\n",
       "      <td>0.060530</td>\n",
       "      <td>0.018466</td>\n",
       "      <td>3.277965</td>\n",
       "      <td>1.081060e-03</td>\n",
       "      <td>0.024295</td>\n",
       "      <td>0.096766</td>\n",
       "    </tr>\n",
       "    <tr>\n",
       "      <th>40</th>\n",
       "      <td>CollgCr</td>\n",
       "      <td>0.036766</td>\n",
       "      <td>0.008961</td>\n",
       "      <td>4.102708</td>\n",
       "      <td>4.410633e-05</td>\n",
       "      <td>0.019181</td>\n",
       "      <td>0.054351</td>\n",
       "    </tr>\n",
       "    <tr>\n",
       "      <th>41</th>\n",
       "      <td>2ndFlrSF</td>\n",
       "      <td>0.375906</td>\n",
       "      <td>0.020352</td>\n",
       "      <td>18.470298</td>\n",
       "      <td>6.792871e-66</td>\n",
       "      <td>0.335969</td>\n",
       "      <td>0.415843</td>\n",
       "    </tr>\n",
       "    <tr>\n",
       "      <th>42</th>\n",
       "      <td>YearRemodAdd</td>\n",
       "      <td>0.023289</td>\n",
       "      <td>0.010535</td>\n",
       "      <td>2.210711</td>\n",
       "      <td>2.727825e-02</td>\n",
       "      <td>0.002617</td>\n",
       "      <td>0.043962</td>\n",
       "    </tr>\n",
       "    <tr>\n",
       "      <th>43</th>\n",
       "      <td>GarageFinish</td>\n",
       "      <td>-0.009285</td>\n",
       "      <td>0.003892</td>\n",
       "      <td>-2.385878</td>\n",
       "      <td>1.722094e-02</td>\n",
       "      <td>-0.016922</td>\n",
       "      <td>-0.001648</td>\n",
       "    </tr>\n",
       "  </tbody>\n",
       "</table>\n",
       "</div>"
      ],
      "text/plain": [
       "    feature_name     Coef.  Std.Err.          t         P>|t|    [0.025  \\\n",
       "0   BsmtFullBath  0.072215  0.014818   4.873501  1.271509e-06  0.043138   \n",
       "1        Veenker  0.071447  0.028365   2.518901  1.192492e-02  0.015788   \n",
       "2        SawyerW  0.025959  0.012201   2.127564  3.361375e-02  0.002016   \n",
       "3        LotArea  0.018677  0.003228   5.786412  9.573545e-09  0.012343   \n",
       "4     GarageCars  0.135430  0.016069   8.427925  1.193180e-16  0.103897   \n",
       "5         1Story  0.026647  0.011272   2.363961  1.826824e-02  0.004528   \n",
       "6    OverallCond  0.129909  0.011908  10.909523  2.795682e-26  0.106543   \n",
       "7        NridgHt  0.150185  0.013393  11.213471  1.358251e-27  0.123904   \n",
       "8        CemntBd -0.124531  0.044002  -2.830092  4.745243e-03 -0.210877   \n",
       "9        Somerst  0.105048  0.012046   8.720873  1.111892e-17  0.081411   \n",
       "10       ClearCr  0.033880  0.016592   2.041910  4.141851e-02  0.001321   \n",
       "11        Timber  0.055186  0.015161   3.639933  2.864606e-04  0.025435   \n",
       "12     YearBuilt  0.173734  0.018513   9.384485  4.012785e-20  0.137406   \n",
       "13       Crawfor  0.103631  0.013057   7.936744  5.467475e-15  0.078009   \n",
       "14       NoRidge  0.112822  0.014678   7.686624  3.555499e-14  0.084020   \n",
       "15       Blmngtn  0.073562  0.024114   3.050654  2.342735e-03  0.026244   \n",
       "16      1stFlrSF  0.061684  0.004671  13.204452  7.473764e-37  0.052517   \n",
       "17       StoneBr  0.154947  0.018368   8.435455  1.123532e-16  0.118902   \n",
       "18          SLvl  0.040505  0.013690   2.958777  3.160301e-03  0.013642   \n",
       "19    WoodDeckSF  0.013372  0.005812   2.300615  2.161542e-02  0.001966   \n",
       "20          Wood -0.120899  0.054075  -2.235758  2.558440e-02 -0.227010   \n",
       "21        Detchd  0.039610  0.011001   3.600575  3.328745e-04  0.018023   \n",
       "22    BsmtFinSF1  0.113863  0.020508   5.552011  3.605014e-08  0.073619   \n",
       "23            TA -0.018400  0.006678  -2.755412  5.966756e-03 -0.031505   \n",
       "24   OpenPorchSF  0.018018  0.006689   2.693610  7.184839e-03  0.004892   \n",
       "25        Attchd  0.046346  0.009357   4.953364  8.539962e-07  0.027986   \n",
       "26       Wd Sdng -0.026699  0.013423  -1.989032  4.696583e-02 -0.053040   \n",
       "27       Wd Sdng  0.037601  0.013612   2.762309  5.843082e-03  0.010890   \n",
       "28       BrkSide  0.042141  0.013212   3.189518  1.468760e-03  0.016214   \n",
       "29         Gable -0.014637  0.005959  -2.456316  1.420355e-02 -0.026330   \n",
       "30    Fireplaces  0.081321  0.012299   6.611991  6.119001e-11  0.057186   \n",
       "31         PConc  0.027035  0.007344   3.681322  2.442459e-04  0.012624   \n",
       "32        1.5Unf  0.061719  0.024917   2.476993  1.341144e-02  0.012824   \n",
       "33       Basment  0.045491  0.021039   2.162200  3.083586e-02  0.004206   \n",
       "34      BsmtQual -0.014302  0.003546  -4.033512  5.906900e-05 -0.021259   \n",
       "35        1.5Fin  0.023557  0.009708   2.426722  1.540916e-02  0.004508   \n",
       "36    MSSubClass -0.037113  0.010550  -3.517700  4.545767e-04 -0.057815   \n",
       "37       CmentBd  0.141555  0.044524   3.179316  1.520919e-03  0.054186   \n",
       "38        BrDale  0.052263  0.023062   2.266202  2.364887e-02  0.007008   \n",
       "39     BsmtUnfSF  0.060530  0.018466   3.277965  1.081060e-03  0.024295   \n",
       "40       CollgCr  0.036766  0.008961   4.102708  4.410633e-05  0.019181   \n",
       "41      2ndFlrSF  0.375906  0.020352  18.470298  6.792871e-66  0.335969   \n",
       "42  YearRemodAdd  0.023289  0.010535   2.210711  2.727825e-02  0.002617   \n",
       "43  GarageFinish -0.009285  0.003892  -2.385878  1.722094e-02 -0.016922   \n",
       "\n",
       "      0.975]  \n",
       "0   0.101292  \n",
       "1   0.127107  \n",
       "2   0.049902  \n",
       "3   0.025011  \n",
       "4   0.166963  \n",
       "5   0.048767  \n",
       "6   0.153276  \n",
       "7   0.176467  \n",
       "8  -0.038185  \n",
       "9   0.128685  \n",
       "10  0.066439  \n",
       "11  0.084936  \n",
       "12  0.210062  \n",
       "13  0.129253  \n",
       "14  0.141624  \n",
       "15  0.120880  \n",
       "16  0.070851  \n",
       "17  0.190991  \n",
       "18  0.067369  \n",
       "19  0.024778  \n",
       "20 -0.014787  \n",
       "21  0.061197  \n",
       "22  0.154107  \n",
       "23 -0.005296  \n",
       "24  0.031145  \n",
       "25  0.064707  \n",
       "26 -0.000359  \n",
       "27  0.064312  \n",
       "28  0.068067  \n",
       "29 -0.002944  \n",
       "30  0.105455  \n",
       "31  0.041446  \n",
       "32  0.110613  \n",
       "33  0.086776  \n",
       "34 -0.007344  \n",
       "35  0.042607  \n",
       "36 -0.016410  \n",
       "37  0.228925  \n",
       "38  0.097517  \n",
       "39  0.096766  \n",
       "40  0.054351  \n",
       "41  0.415843  \n",
       "42  0.043962  \n",
       "43 -0.001648  "
      ]
     },
     "execution_count": 71,
     "metadata": {},
     "output_type": "execute_result"
    }
   ],
   "source": [
    "LRresult"
   ]
  },
  {
   "cell_type": "code",
   "execution_count": 108,
   "id": "9b9b4d81",
   "metadata": {},
   "outputs": [
    {
     "data": {
      "text/html": [
       "<style>#sk-container-id-3 {color: black;}#sk-container-id-3 pre{padding: 0;}#sk-container-id-3 div.sk-toggleable {background-color: white;}#sk-container-id-3 label.sk-toggleable__label {cursor: pointer;display: block;width: 100%;margin-bottom: 0;padding: 0.3em;box-sizing: border-box;text-align: center;}#sk-container-id-3 label.sk-toggleable__label-arrow:before {content: \"▸\";float: left;margin-right: 0.25em;color: #696969;}#sk-container-id-3 label.sk-toggleable__label-arrow:hover:before {color: black;}#sk-container-id-3 div.sk-estimator:hover label.sk-toggleable__label-arrow:before {color: black;}#sk-container-id-3 div.sk-toggleable__content {max-height: 0;max-width: 0;overflow: hidden;text-align: left;background-color: #f0f8ff;}#sk-container-id-3 div.sk-toggleable__content pre {margin: 0.2em;color: black;border-radius: 0.25em;background-color: #f0f8ff;}#sk-container-id-3 input.sk-toggleable__control:checked~div.sk-toggleable__content {max-height: 200px;max-width: 100%;overflow: auto;}#sk-container-id-3 input.sk-toggleable__control:checked~label.sk-toggleable__label-arrow:before {content: \"▾\";}#sk-container-id-3 div.sk-estimator input.sk-toggleable__control:checked~label.sk-toggleable__label {background-color: #d4ebff;}#sk-container-id-3 div.sk-label input.sk-toggleable__control:checked~label.sk-toggleable__label {background-color: #d4ebff;}#sk-container-id-3 input.sk-hidden--visually {border: 0;clip: rect(1px 1px 1px 1px);clip: rect(1px, 1px, 1px, 1px);height: 1px;margin: -1px;overflow: hidden;padding: 0;position: absolute;width: 1px;}#sk-container-id-3 div.sk-estimator {font-family: monospace;background-color: #f0f8ff;border: 1px dotted black;border-radius: 0.25em;box-sizing: border-box;margin-bottom: 0.5em;}#sk-container-id-3 div.sk-estimator:hover {background-color: #d4ebff;}#sk-container-id-3 div.sk-parallel-item::after {content: \"\";width: 100%;border-bottom: 1px solid gray;flex-grow: 1;}#sk-container-id-3 div.sk-label:hover label.sk-toggleable__label {background-color: #d4ebff;}#sk-container-id-3 div.sk-serial::before {content: \"\";position: absolute;border-left: 1px solid gray;box-sizing: border-box;top: 0;bottom: 0;left: 50%;z-index: 0;}#sk-container-id-3 div.sk-serial {display: flex;flex-direction: column;align-items: center;background-color: white;padding-right: 0.2em;padding-left: 0.2em;position: relative;}#sk-container-id-3 div.sk-item {position: relative;z-index: 1;}#sk-container-id-3 div.sk-parallel {display: flex;align-items: stretch;justify-content: center;background-color: white;position: relative;}#sk-container-id-3 div.sk-item::before, #sk-container-id-3 div.sk-parallel-item::before {content: \"\";position: absolute;border-left: 1px solid gray;box-sizing: border-box;top: 0;bottom: 0;left: 50%;z-index: -1;}#sk-container-id-3 div.sk-parallel-item {display: flex;flex-direction: column;z-index: 1;position: relative;background-color: white;}#sk-container-id-3 div.sk-parallel-item:first-child::after {align-self: flex-end;width: 50%;}#sk-container-id-3 div.sk-parallel-item:last-child::after {align-self: flex-start;width: 50%;}#sk-container-id-3 div.sk-parallel-item:only-child::after {width: 0;}#sk-container-id-3 div.sk-dashed-wrapped {border: 1px dashed gray;margin: 0 0.4em 0.5em 0.4em;box-sizing: border-box;padding-bottom: 0.4em;background-color: white;}#sk-container-id-3 div.sk-label label {font-family: monospace;font-weight: bold;display: inline-block;line-height: 1.2em;}#sk-container-id-3 div.sk-label-container {text-align: center;}#sk-container-id-3 div.sk-container {/* jupyter's `normalize.less` sets `[hidden] { display: none; }` but bootstrap.min.css set `[hidden] { display: none !important; }` so we also need the `!important` here to be able to override the default hidden behavior on the sphinx rendered scikit-learn.org. See: https://github.com/scikit-learn/scikit-learn/issues/21755 */display: inline-block !important;position: relative;}#sk-container-id-3 div.sk-text-repr-fallback {display: none;}</style><div id=\"sk-container-id-3\" class=\"sk-top-container\"><div class=\"sk-text-repr-fallback\"><pre>LinearRegression()</pre><b>In a Jupyter environment, please rerun this cell to show the HTML representation or trust the notebook. <br />On GitHub, the HTML representation is unable to render, please try loading this page with nbviewer.org.</b></div><div class=\"sk-container\" hidden><div class=\"sk-item\"><div class=\"sk-estimator sk-toggleable\"><input class=\"sk-toggleable__control sk-hidden--visually\" id=\"sk-estimator-id-3\" type=\"checkbox\" checked><label for=\"sk-estimator-id-3\" class=\"sk-toggleable__label sk-toggleable__label-arrow\">LinearRegression</label><div class=\"sk-toggleable__content\"><pre>LinearRegression()</pre></div></div></div></div></div>"
      ],
      "text/plain": [
       "LinearRegression()"
      ]
     },
     "execution_count": 108,
     "metadata": {},
     "output_type": "execute_result"
    }
   ],
   "source": [
    "regressor2 = LinearRegression()\n",
    "regressor2.fit(significant_feats_df , y_train)"
   ]
  },
  {
   "cell_type": "code",
   "execution_count": 109,
   "id": "ba73ec27",
   "metadata": {},
   "outputs": [
    {
     "data": {
      "text/plain": [
       "0.8986061349607612"
      ]
     },
     "execution_count": 109,
     "metadata": {},
     "output_type": "execute_result"
    }
   ],
   "source": [
    "regressor2.score(significant_feats_df , y_train)"
   ]
  },
  {
   "cell_type": "code",
   "execution_count": 110,
   "id": "444c047c",
   "metadata": {},
   "outputs": [
    {
     "data": {
      "text/plain": [
       "0.8605854521616614"
      ]
     },
     "execution_count": 110,
     "metadata": {},
     "output_type": "execute_result"
    }
   ],
   "source": [
    "regressor2.score(significant_feats_df_val , y_val)"
   ]
  },
  {
   "cell_type": "markdown",
   "id": "87f5f8fb",
   "metadata": {},
   "source": [
    "## Using Shrinkage methods (Ridge, Lasso and Elastic Net) to decrease the variance of the model while sacrificing a little of bias"
   ]
  },
  {
   "cell_type": "markdown",
   "id": "0f7a4f0d",
   "metadata": {},
   "source": [
    "![image.png](data:image/png;base64,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)\n",
    "### The above formula can be used for determining the coefficients of ridge regression (but without bias)"
   ]
  },
  {
   "cell_type": "code",
   "execution_count": 61,
   "id": "652f20c9",
   "metadata": {},
   "outputs": [],
   "source": [
    "# lambda_ = 0.0001\n",
    "# ridge_coeffs = (np.linalg.inv(X_train.T.dot(X_train) +\n",
    "#                (lambda_ * np.identity(X_train.shape[1])))).dot((X_train.T).dot(y_train.values))"
   ]
  },
  {
   "cell_type": "code",
   "execution_count": 62,
   "id": "3c35af3c",
   "metadata": {},
   "outputs": [],
   "source": [
    "# y_ridge_from_scratch = X_train.values.dot(ridge_coeffs)"
   ]
  },
  {
   "cell_type": "code",
   "execution_count": 111,
   "id": "a5ddacbd",
   "metadata": {},
   "outputs": [],
   "source": [
    "# y_ridge_from_scratch"
   ]
  },
  {
   "cell_type": "code",
   "execution_count": 112,
   "id": "795b80dd",
   "metadata": {},
   "outputs": [
    {
     "data": {
      "text/html": [
       "<style>#sk-container-id-4 {color: black;}#sk-container-id-4 pre{padding: 0;}#sk-container-id-4 div.sk-toggleable {background-color: white;}#sk-container-id-4 label.sk-toggleable__label {cursor: pointer;display: block;width: 100%;margin-bottom: 0;padding: 0.3em;box-sizing: border-box;text-align: center;}#sk-container-id-4 label.sk-toggleable__label-arrow:before {content: \"▸\";float: left;margin-right: 0.25em;color: #696969;}#sk-container-id-4 label.sk-toggleable__label-arrow:hover:before {color: black;}#sk-container-id-4 div.sk-estimator:hover label.sk-toggleable__label-arrow:before {color: black;}#sk-container-id-4 div.sk-toggleable__content {max-height: 0;max-width: 0;overflow: hidden;text-align: left;background-color: #f0f8ff;}#sk-container-id-4 div.sk-toggleable__content pre {margin: 0.2em;color: black;border-radius: 0.25em;background-color: #f0f8ff;}#sk-container-id-4 input.sk-toggleable__control:checked~div.sk-toggleable__content {max-height: 200px;max-width: 100%;overflow: auto;}#sk-container-id-4 input.sk-toggleable__control:checked~label.sk-toggleable__label-arrow:before {content: \"▾\";}#sk-container-id-4 div.sk-estimator input.sk-toggleable__control:checked~label.sk-toggleable__label {background-color: #d4ebff;}#sk-container-id-4 div.sk-label input.sk-toggleable__control:checked~label.sk-toggleable__label {background-color: #d4ebff;}#sk-container-id-4 input.sk-hidden--visually {border: 0;clip: rect(1px 1px 1px 1px);clip: rect(1px, 1px, 1px, 1px);height: 1px;margin: -1px;overflow: hidden;padding: 0;position: absolute;width: 1px;}#sk-container-id-4 div.sk-estimator {font-family: monospace;background-color: #f0f8ff;border: 1px dotted black;border-radius: 0.25em;box-sizing: border-box;margin-bottom: 0.5em;}#sk-container-id-4 div.sk-estimator:hover {background-color: #d4ebff;}#sk-container-id-4 div.sk-parallel-item::after {content: \"\";width: 100%;border-bottom: 1px solid gray;flex-grow: 1;}#sk-container-id-4 div.sk-label:hover label.sk-toggleable__label {background-color: #d4ebff;}#sk-container-id-4 div.sk-serial::before {content: \"\";position: absolute;border-left: 1px solid gray;box-sizing: border-box;top: 0;bottom: 0;left: 50%;z-index: 0;}#sk-container-id-4 div.sk-serial {display: flex;flex-direction: column;align-items: center;background-color: white;padding-right: 0.2em;padding-left: 0.2em;position: relative;}#sk-container-id-4 div.sk-item {position: relative;z-index: 1;}#sk-container-id-4 div.sk-parallel {display: flex;align-items: stretch;justify-content: center;background-color: white;position: relative;}#sk-container-id-4 div.sk-item::before, #sk-container-id-4 div.sk-parallel-item::before {content: \"\";position: absolute;border-left: 1px solid gray;box-sizing: border-box;top: 0;bottom: 0;left: 50%;z-index: -1;}#sk-container-id-4 div.sk-parallel-item {display: flex;flex-direction: column;z-index: 1;position: relative;background-color: white;}#sk-container-id-4 div.sk-parallel-item:first-child::after {align-self: flex-end;width: 50%;}#sk-container-id-4 div.sk-parallel-item:last-child::after {align-self: flex-start;width: 50%;}#sk-container-id-4 div.sk-parallel-item:only-child::after {width: 0;}#sk-container-id-4 div.sk-dashed-wrapped {border: 1px dashed gray;margin: 0 0.4em 0.5em 0.4em;box-sizing: border-box;padding-bottom: 0.4em;background-color: white;}#sk-container-id-4 div.sk-label label {font-family: monospace;font-weight: bold;display: inline-block;line-height: 1.2em;}#sk-container-id-4 div.sk-label-container {text-align: center;}#sk-container-id-4 div.sk-container {/* jupyter's `normalize.less` sets `[hidden] { display: none; }` but bootstrap.min.css set `[hidden] { display: none !important; }` so we also need the `!important` here to be able to override the default hidden behavior on the sphinx rendered scikit-learn.org. See: https://github.com/scikit-learn/scikit-learn/issues/21755 */display: inline-block !important;position: relative;}#sk-container-id-4 div.sk-text-repr-fallback {display: none;}</style><div id=\"sk-container-id-4\" class=\"sk-top-container\"><div class=\"sk-text-repr-fallback\"><pre>Ridge(alpha=0.0001, fit_intercept=False)</pre><b>In a Jupyter environment, please rerun this cell to show the HTML representation or trust the notebook. <br />On GitHub, the HTML representation is unable to render, please try loading this page with nbviewer.org.</b></div><div class=\"sk-container\" hidden><div class=\"sk-item\"><div class=\"sk-estimator sk-toggleable\"><input class=\"sk-toggleable__control sk-hidden--visually\" id=\"sk-estimator-id-4\" type=\"checkbox\" checked><label for=\"sk-estimator-id-4\" class=\"sk-toggleable__label sk-toggleable__label-arrow\">Ridge</label><div class=\"sk-toggleable__content\"><pre>Ridge(alpha=0.0001, fit_intercept=False)</pre></div></div></div></div></div>"
      ],
      "text/plain": [
       "Ridge(alpha=0.0001, fit_intercept=False)"
      ]
     },
     "execution_count": 112,
     "metadata": {},
     "output_type": "execute_result"
    }
   ],
   "source": [
    "from sklearn.linear_model import Ridge\n",
    "regressor3 = Ridge(alpha = 0.0001, fit_intercept=False)\n",
    "regressor3.fit(x_train, y_train)"
   ]
  },
  {
   "cell_type": "code",
   "execution_count": 113,
   "id": "9bdd3285",
   "metadata": {},
   "outputs": [
    {
     "data": {
      "text/plain": [
       "0.9227022219835253"
      ]
     },
     "execution_count": 113,
     "metadata": {},
     "output_type": "execute_result"
    }
   ],
   "source": [
    "regressor3.score(x_train,y_train)"
   ]
  },
  {
   "cell_type": "code",
   "execution_count": 114,
   "id": "98acdaee",
   "metadata": {},
   "outputs": [
    {
     "data": {
      "text/plain": [
       "0.8723881891393637"
      ]
     },
     "execution_count": 114,
     "metadata": {},
     "output_type": "execute_result"
    }
   ],
   "source": [
    "regressor3.score(x_val,y_val)"
   ]
  },
  {
   "cell_type": "markdown",
   "id": "5f3a7680",
   "metadata": {},
   "source": [
    "# Check linear regression Assumptions \n",
    "- By scatter to check zero mean and varience and QQ-plot & hist-plot to check normality"
   ]
  },
  {
   "cell_type": "code",
   "execution_count": 119,
   "id": "78da64ec",
   "metadata": {},
   "outputs": [
    {
     "data": {
      "image/png": "[encoded data removed]",
      "text/plain": [
       "<Figure size 640x480 with 1 Axes>"
      ]
     },
     "metadata": {},
     "output_type": "display_data"
    }
   ],
   "source": [
    "residuals = y_train - y_predicted_train\n",
    "plt.scatter(y_predicted_train, residuals)\n",
    "plt.show()"
   ]
  },
  {
   "cell_type": "code",
   "execution_count": 120,
   "id": "29cd79c2",
   "metadata": {},
   "outputs": [
    {
     "data": {
      "image/png": "[encoded data removed]",
      "text/plain": [
       "<Figure size 640x480 with 1 Axes>"
      ]
     },
     "metadata": {},
     "output_type": "display_data"
    }
   ],
   "source": [
    "import statsmodels.api as sm\n",
    "#create Q-Q plot \n",
    "fig = sm.qqplot(residuals,line='q', fit = False )\n",
    "plt.show()"
   ]
  },
  {
   "cell_type": "code",
   "execution_count": 123,
   "id": "4b075a8d",
   "metadata": {},
   "outputs": [
    {
     "data": {
      "text/plain": [
       "array([[<Axes: title={'center': 'SalePrice'}>]], dtype=object)"
      ]
     },
     "execution_count": 123,
     "metadata": {},
     "output_type": "execute_result"
    },
    {
     "data": {
      "image/png": "[encoded data removed]",
      "text/plain": [
       "<Figure size 700x500 with 1 Axes>"
      ]
     },
     "metadata": {},
     "output_type": "display_data"
    }
   ],
   "source": [
    "residuals.hist(bins = 200, figsize = (7, 5))"
   ]
  },
  {
   "cell_type": "markdown",
   "id": "a11afd77",
   "metadata": {},
   "source": [
    "###### Suppose that linear regression not satisfied we will use \n",
    "### Basis Expantions"
   ]
  },
  {
   "cell_type": "code",
   "execution_count": 124,
   "id": "58c1d2d5",
   "metadata": {},
   "outputs": [
    {
     "data": {
      "text/html": [
       "<style>#sk-container-id-5 {color: black;}#sk-container-id-5 pre{padding: 0;}#sk-container-id-5 div.sk-toggleable {background-color: white;}#sk-container-id-5 label.sk-toggleable__label {cursor: pointer;display: block;width: 100%;margin-bottom: 0;padding: 0.3em;box-sizing: border-box;text-align: center;}#sk-container-id-5 label.sk-toggleable__label-arrow:before {content: \"▸\";float: left;margin-right: 0.25em;color: #696969;}#sk-container-id-5 label.sk-toggleable__label-arrow:hover:before {color: black;}#sk-container-id-5 div.sk-estimator:hover label.sk-toggleable__label-arrow:before {color: black;}#sk-container-id-5 div.sk-toggleable__content {max-height: 0;max-width: 0;overflow: hidden;text-align: left;background-color: #f0f8ff;}#sk-container-id-5 div.sk-toggleable__content pre {margin: 0.2em;color: black;border-radius: 0.25em;background-color: #f0f8ff;}#sk-container-id-5 input.sk-toggleable__control:checked~div.sk-toggleable__content {max-height: 200px;max-width: 100%;overflow: auto;}#sk-container-id-5 input.sk-toggleable__control:checked~label.sk-toggleable__label-arrow:before {content: \"▾\";}#sk-container-id-5 div.sk-estimator input.sk-toggleable__control:checked~label.sk-toggleable__label {background-color: #d4ebff;}#sk-container-id-5 div.sk-label input.sk-toggleable__control:checked~label.sk-toggleable__label {background-color: #d4ebff;}#sk-container-id-5 input.sk-hidden--visually {border: 0;clip: rect(1px 1px 1px 1px);clip: rect(1px, 1px, 1px, 1px);height: 1px;margin: -1px;overflow: hidden;padding: 0;position: absolute;width: 1px;}#sk-container-id-5 div.sk-estimator {font-family: monospace;background-color: #f0f8ff;border: 1px dotted black;border-radius: 0.25em;box-sizing: border-box;margin-bottom: 0.5em;}#sk-container-id-5 div.sk-estimator:hover {background-color: #d4ebff;}#sk-container-id-5 div.sk-parallel-item::after {content: \"\";width: 100%;border-bottom: 1px solid gray;flex-grow: 1;}#sk-container-id-5 div.sk-label:hover label.sk-toggleable__label {background-color: #d4ebff;}#sk-container-id-5 div.sk-serial::before {content: \"\";position: absolute;border-left: 1px solid gray;box-sizing: border-box;top: 0;bottom: 0;left: 50%;z-index: 0;}#sk-container-id-5 div.sk-serial {display: flex;flex-direction: column;align-items: center;background-color: white;padding-right: 0.2em;padding-left: 0.2em;position: relative;}#sk-container-id-5 div.sk-item {position: relative;z-index: 1;}#sk-container-id-5 div.sk-parallel {display: flex;align-items: stretch;justify-content: center;background-color: white;position: relative;}#sk-container-id-5 div.sk-item::before, #sk-container-id-5 div.sk-parallel-item::before {content: \"\";position: absolute;border-left: 1px solid gray;box-sizing: border-box;top: 0;bottom: 0;left: 50%;z-index: -1;}#sk-container-id-5 div.sk-parallel-item {display: flex;flex-direction: column;z-index: 1;position: relative;background-color: white;}#sk-container-id-5 div.sk-parallel-item:first-child::after {align-self: flex-end;width: 50%;}#sk-container-id-5 div.sk-parallel-item:last-child::after {align-self: flex-start;width: 50%;}#sk-container-id-5 div.sk-parallel-item:only-child::after {width: 0;}#sk-container-id-5 div.sk-dashed-wrapped {border: 1px dashed gray;margin: 0 0.4em 0.5em 0.4em;box-sizing: border-box;padding-bottom: 0.4em;background-color: white;}#sk-container-id-5 div.sk-label label {font-family: monospace;font-weight: bold;display: inline-block;line-height: 1.2em;}#sk-container-id-5 div.sk-label-container {text-align: center;}#sk-container-id-5 div.sk-container {/* jupyter's `normalize.less` sets `[hidden] { display: none; }` but bootstrap.min.css set `[hidden] { display: none !important; }` so we also need the `!important` here to be able to override the default hidden behavior on the sphinx rendered scikit-learn.org. See: https://github.com/scikit-learn/scikit-learn/issues/21755 */display: inline-block !important;position: relative;}#sk-container-id-5 div.sk-text-repr-fallback {display: none;}</style><div id=\"sk-container-id-5\" class=\"sk-top-container\"><div class=\"sk-text-repr-fallback\"><pre>LinearRegression()</pre><b>In a Jupyter environment, please rerun this cell to show the HTML representation or trust the notebook. <br />On GitHub, the HTML representation is unable to render, please try loading this page with nbviewer.org.</b></div><div class=\"sk-container\" hidden><div class=\"sk-item\"><div class=\"sk-estimator sk-toggleable\"><input class=\"sk-toggleable__control sk-hidden--visually\" id=\"sk-estimator-id-5\" type=\"checkbox\" checked><label for=\"sk-estimator-id-5\" class=\"sk-toggleable__label sk-toggleable__label-arrow\">LinearRegression</label><div class=\"sk-toggleable__content\"><pre>LinearRegression()</pre></div></div></div></div></div>"
      ],
      "text/plain": [
       "LinearRegression()"
      ]
     },
     "execution_count": 124,
     "metadata": {},
     "output_type": "execute_result"
    }
   ],
   "source": [
    "from sklearn.preprocessing import PolynomialFeatures\n",
    "poly = PolynomialFeatures(degree = 2)\n",
    "x_poly = poly.fit_transform(x_train)\n",
    "\n",
    "regressor4 = LinearRegression()\n",
    "regressor4.fit(x_poly, y_train)"
   ]
  },
  {
   "cell_type": "code",
   "execution_count": 125,
   "id": "ee2380e3",
   "metadata": {},
   "outputs": [
    {
     "data": {
      "text/plain": [
       "1.0"
      ]
     },
     "execution_count": 125,
     "metadata": {},
     "output_type": "execute_result"
    }
   ],
   "source": [
    "regressor4.score(x_poly, y_train)"
   ]
  },
  {
   "cell_type": "code",
   "execution_count": 127,
   "id": "e368a727",
   "metadata": {},
   "outputs": [],
   "source": [
    "x_val_poly = poly.fit_transform(x_val)"
   ]
  },
  {
   "cell_type": "code",
   "execution_count": 128,
   "id": "5941447a",
   "metadata": {
    "scrolled": false
   },
   "outputs": [
    {
     "data": {
      "text/plain": [
       "0.6542854496172439"
      ]
     },
     "execution_count": 128,
     "metadata": {},
     "output_type": "execute_result"
    }
   ],
   "source": [
    "regressor4.score(x_val_poly , y_val)"
   ]
  },
  {
   "cell_type": "markdown",
   "id": "8b53eb7f",
   "metadata": {},
   "source": [
    "#### this is overfitting because LR satisfied but I do it Just Try "
   ]
  }
 ],
 "metadata": {
  "kernelspec": {
   "display_name": "Python 3 (ipykernel)",
   "language": "python",
   "name": "python3"
  },
  "language_info": {
   "codemirror_mode": {
    "name": "ipython",
    "version": 3
   },
   "file_extension": ".py",
   "mimetype": "text/x-python",
   "name": "python",
   "nbconvert_exporter": "python",
   "pygments_lexer": "ipython3",
   "version": "3.11.5"
  }
 },
 "nbformat": 4,
 "nbformat_minor": 5
}
